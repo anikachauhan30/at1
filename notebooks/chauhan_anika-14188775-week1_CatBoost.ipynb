{
 "cells": [
  {
   "cell_type": "markdown",
   "id": "05ca91d6-896a-4940-b74f-c8c0cb3f2a5a",
   "metadata": {},
   "source": [
    "Loading and exploring dataset"
   ]
  },
  {
   "cell_type": "code",
   "execution_count": 1,
   "id": "6dfd4efe-a527-43a0-a952-6162417013f8",
   "metadata": {
    "tags": []
   },
   "outputs": [],
   "source": [
    "%load_ext autoreload\n",
    "%autoreload 2"
   ]
  },
  {
   "cell_type": "markdown",
   "id": "c71e0161-79a6-4e9c-8543-77ff2ab8d22e",
   "metadata": {},
   "source": [
    "Importing pandas and numpy"
   ]
  },
  {
   "cell_type": "code",
   "execution_count": 2,
   "id": "cf97786f-8095-4bf8-9526-14013e2edca9",
   "metadata": {
    "tags": []
   },
   "outputs": [],
   "source": [
    "import pandas as pd\n",
    "import numpy as np"
   ]
  },
  {
   "cell_type": "markdown",
   "id": "4c26b3b6-21ae-41ea-b412-3d9a9c2c4357",
   "metadata": {},
   "source": [
    "Loading training set into dataframe called df"
   ]
  },
  {
   "cell_type": "code",
   "execution_count": 3,
   "id": "812d16b9-737e-4fd0-a565-d97811889beb",
   "metadata": {
    "tags": []
   },
   "outputs": [],
   "source": [
    "df = pd.read_csv('../data/raw/train.csv',low_memory=False)"
   ]
  },
  {
   "cell_type": "markdown",
   "id": "346e05c6",
   "metadata": {},
   "source": [
    "Removing nulls"
   ]
  },
  {
   "cell_type": "code",
   "execution_count": 4,
   "id": "62c9262e-b74b-4003-8f9f-abba1dcd988e",
   "metadata": {
    "tags": []
   },
   "outputs": [],
   "source": [
    "df=df.dropna()"
   ]
  },
  {
   "cell_type": "markdown",
   "id": "161aabe7",
   "metadata": {},
   "source": [
    "Splitting data into features and target"
   ]
  },
  {
   "cell_type": "code",
   "execution_count": 5,
   "id": "e4aae5f7-3dac-4f99-83a0-b967a74222eb",
   "metadata": {
    "tags": []
   },
   "outputs": [],
   "source": [
    "features = df.drop(['player_id','drafted'],axis=1)\n",
    "target = df['drafted']"
   ]
  },
  {
   "cell_type": "markdown",
   "id": "38439358",
   "metadata": {},
   "source": [
    "One-hot-encoding"
   ]
  },
  {
   "cell_type": "code",
   "execution_count": 6,
   "id": "da170b9e-bfe0-4b93-819e-53ed109f4d63",
   "metadata": {
    "tags": []
   },
   "outputs": [],
   "source": [
    "features = pd.get_dummies(features)"
   ]
  },
  {
   "cell_type": "code",
   "execution_count": 7,
   "id": "0dc83fa2-edfe-4731-bd9e-996da1a92280",
   "metadata": {
    "tags": []
   },
   "outputs": [
    {
     "name": "stdout",
     "output_type": "stream",
     "text": [
      "(1023, 250) (1023,)\n"
     ]
    }
   ],
   "source": [
    "print(features.shape,target.shape)"
   ]
  },
  {
   "cell_type": "code",
   "execution_count": 8,
   "id": "3786f48f-24c3-402b-b99e-633eb30bf4da",
   "metadata": {
    "tags": []
   },
   "outputs": [],
   "source": [
    "from sklearn.model_selection import train_test_split"
   ]
  },
  {
   "cell_type": "code",
   "execution_count": 9,
   "id": "37e48adf-0f81-4998-98be-80eeeaebfbab",
   "metadata": {
    "tags": []
   },
   "outputs": [],
   "source": [
    "X_train, X_val, y_train, y_val = train_test_split(features, target, test_size=0.2, random_state=42)"
   ]
  },
  {
   "cell_type": "code",
   "execution_count": 10,
   "id": "2969a271-3e08-4754-a487-001e7215cb69",
   "metadata": {
    "tags": []
   },
   "outputs": [],
   "source": [
    "from sklearn.preprocessing import StandardScaler"
   ]
  },
  {
   "cell_type": "code",
   "execution_count": 11,
   "id": "c522bac9-4706-4afa-adcb-699b199c4bee",
   "metadata": {
    "tags": []
   },
   "outputs": [],
   "source": [
    "scaler = StandardScaler()\n",
    "X_train_scaled = scaler.fit_transform(X_train)\n",
    "X_val_scaled = scaler.transform(X_val)"
   ]
  },
  {
   "cell_type": "code",
   "execution_count": 14,
   "id": "c9119fd1-2eff-46d0-b744-699a1affe916",
   "metadata": {
    "tags": []
   },
   "outputs": [],
   "source": [
    "from catboost import CatBoostClassifier"
   ]
  },
  {
   "cell_type": "markdown",
   "id": "461ae854",
   "metadata": {},
   "source": [
    "Training the model"
   ]
  },
  {
   "cell_type": "code",
   "execution_count": 15,
   "id": "ca754b97-1db4-4be5-9f2a-d4ab655e9ddd",
   "metadata": {
    "tags": []
   },
   "outputs": [
    {
     "data": {
      "text/plain": [
       "<catboost.core.CatBoostClassifier at 0x1fdaa92eed0>"
      ]
     },
     "execution_count": 15,
     "metadata": {},
     "output_type": "execute_result"
    }
   ],
   "source": [
    "# Model training (CatBoost)\n",
    "cb = CatBoostClassifier(n_estimators=150, random_state=8, verbose=0)\n",
    "cb.fit(X_train_scaled, y_train)"
   ]
  },
  {
   "cell_type": "code",
   "execution_count": 16,
   "id": "d8c4453a-964a-4a14-bb7f-3f088ff3f25a",
   "metadata": {
    "tags": []
   },
   "outputs": [],
   "source": [
    "from sklearn.metrics import roc_auc_score"
   ]
  },
  {
   "cell_type": "code",
   "execution_count": 17,
   "id": "9e4aa90d-bf63-4af1-9cc9-274f0da8c88e",
   "metadata": {
    "scrolled": true,
    "tags": []
   },
   "outputs": [
    {
     "name": "stdout",
     "output_type": "stream",
     "text": [
      "Cat Boost AUROC: 0.8991\n"
     ]
    }
   ],
   "source": [
    "# Model evaluation (LightGBM)\n",
    "y_pred_prob = cb.predict_proba(X_val_scaled)[:, 1]\n",
    "roc_auc = roc_auc_score(y_val, y_pred_prob)\n",
    "print(f'Cat Boost AUROC: {roc_auc:.4f}')"
   ]
  },
  {
   "cell_type": "markdown",
   "id": "ead90f26",
   "metadata": {},
   "source": [
    "Final testing"
   ]
  },
  {
   "cell_type": "code",
   "execution_count": 18,
   "id": "7d4cc22f-e759-4e46-8c77-fdd4583dbce8",
   "metadata": {
    "tags": []
   },
   "outputs": [],
   "source": [
    "test_data = pd.read_csv('../data/raw/test.csv',low_memory=False)"
   ]
  },
  {
   "cell_type": "code",
   "execution_count": 19,
   "id": "e5f2b9b4-828f-4c27-a688-b9fe61eddcb1",
   "metadata": {
    "tags": []
   },
   "outputs": [],
   "source": [
    "test_data_processed = pd.get_dummies(test_data)\n",
    "test_data_processed = test_data_processed.reindex(columns=features.columns, fill_value=0) \n",
    "test_data_scaled = scaler.transform(test_data_processed)\n",
    "predictions = cb.predict_proba(test_data_scaled)[:,1]"
   ]
  },
  {
   "cell_type": "code",
   "execution_count": 20,
   "id": "932b678c-b14c-443b-8bfb-0d104c4c34a0",
   "metadata": {
    "scrolled": true,
    "tags": []
   },
   "outputs": [
    {
     "name": "stdout",
     "output_type": "stream",
     "text": [
      "                                 player_id   drafted\n",
      "0     cf302b4d-84f7-4124-a25d-a75eed31978b  0.156081\n",
      "1     f91837cd-4f49-4b70-963d-aeb82c6ce3da  0.135288\n",
      "2     53ec2a29-1e7d-4c6d-86d7-d60d02af8916  0.363793\n",
      "3     32402798-471c-4a54-8cb4-29cd95199014  0.231430\n",
      "4     73b960f9-27b8-4431-9d23-a760e9bbc360  0.603604\n",
      "...                                    ...       ...\n",
      "4965  a25ee55f-02a3-4f8e-8194-a5f427e14e7c  0.079086\n",
      "4966  d0d9f45e-7b01-44b3-8d40-514ec338611d  0.012200\n",
      "4967  f8df22c4-1602-4fab-896d-8820951aae2f  0.014382\n",
      "4968  b791c69a-f769-4163-afda-051a6fd20a9d  0.014207\n",
      "4969  18b51f5d-4746-4121-88fd-c8d0a1399130  0.064051\n",
      "\n",
      "[4970 rows x 2 columns]\n"
     ]
    }
   ],
   "source": [
    "test_data['drafted'] = predictions\n",
    "print(test_data[['player_id', 'drafted']])"
   ]
  },
  {
   "cell_type": "code",
   "execution_count": 21,
   "id": "924f8e97-249f-4bef-b38d-fc053c0f9c0e",
   "metadata": {
    "scrolled": false,
    "tags": []
   },
   "outputs": [
    {
     "name": "stdout",
     "output_type": "stream",
     "text": [
      "(4970, 64)\n"
     ]
    }
   ],
   "source": [
    "print(test_data.shape)"
   ]
  },
  {
   "cell_type": "markdown",
   "id": "d08459c2",
   "metadata": {},
   "source": [
    "Saving to csv"
   ]
  },
  {
   "cell_type": "code",
   "execution_count": 22,
   "id": "7a26019c-dd60-48ee-a6f4-57326ca50d5b",
   "metadata": {
    "tags": []
   },
   "outputs": [],
   "source": [
    "test_data[['player_id', 'drafted']].to_csv('predictions_cat.csv',index=False)"
   ]
  },
  {
   "cell_type": "code",
   "execution_count": null,
   "id": "b03e8a89-62c1-4aaf-ba90-6ea69de3d727",
   "metadata": {},
   "outputs": [],
   "source": []
  },
  {
   "cell_type": "code",
   "execution_count": null,
   "id": "35206588-d91a-4f46-9929-54cb2b822d2f",
   "metadata": {},
   "outputs": [],
   "source": []
  },
  {
   "cell_type": "code",
   "execution_count": null,
   "id": "985ffef7-32ab-499a-a26b-5e44be455e1d",
   "metadata": {},
   "outputs": [],
   "source": []
  }
 ],
 "metadata": {
  "kernelspec": {
   "display_name": "Python 3 (ipykernel)",
   "language": "python",
   "name": "python3"
  },
  "language_info": {
   "codemirror_mode": {
    "name": "ipython",
    "version": 3
   },
   "file_extension": ".py",
   "mimetype": "text/x-python",
   "name": "python",
   "nbconvert_exporter": "python",
   "pygments_lexer": "ipython3",
   "version": "3.11.4"
  }
 },
 "nbformat": 4,
 "nbformat_minor": 5
}
