{
 "cells": [
  {
   "cell_type": "markdown",
   "id": "c71e0161-79a6-4e9c-8543-77ff2ab8d22e",
   "metadata": {},
   "source": [
    "Importing pandas and numpy"
   ]
  },
  {
   "cell_type": "code",
   "execution_count": 53,
   "id": "cf97786f-8095-4bf8-9526-14013e2edca9",
   "metadata": {
    "tags": []
   },
   "outputs": [],
   "source": [
    "import pandas as pd\n",
    "import numpy as np"
   ]
  },
  {
   "cell_type": "markdown",
   "id": "4c26b3b6-21ae-41ea-b412-3d9a9c2c4357",
   "metadata": {},
   "source": [
    "Loading training set into dataframe called df"
   ]
  },
  {
   "cell_type": "code",
   "execution_count": 54,
   "id": "812d16b9-737e-4fd0-a565-d97811889beb",
   "metadata": {
    "tags": []
   },
   "outputs": [],
   "source": [
    "df = pd.read_csv('../data/raw/train.csv',low_memory=False)"
   ]
  },
  {
   "cell_type": "code",
   "execution_count": 55,
   "id": "e7e463b6",
   "metadata": {},
   "outputs": [
    {
     "name": "stdout",
     "output_type": "stream",
     "text": [
      "<class 'pandas.core.series.Series'>\n",
      "RangeIndex: 56091 entries, 0 to 56090\n",
      "Series name: ht\n",
      "Non-Null Count  Dtype \n",
      "--------------  ----- \n",
      "56011 non-null  object\n",
      "dtypes: object(1)\n",
      "memory usage: 438.3+ KB\n"
     ]
    }
   ],
   "source": [
    "df['ht'].info()"
   ]
  },
  {
   "cell_type": "markdown",
   "id": "4f58e934",
   "metadata": {},
   "source": [
    "converting height to cm"
   ]
  },
  {
   "cell_type": "code",
   "execution_count": 56,
   "id": "de2812e4",
   "metadata": {},
   "outputs": [],
   "source": [
    "# function to convert 'ht' column to height in centimeters\n",
    "def feet_inches_to_cm(height):\n",
    "    if isinstance(height, str):  # Check if the value is a string\n",
    "        parts = height.split('-')\n",
    "        if len(parts) == 2 and parts[0].isdigit() and parts[1].isdigit():\n",
    "            feet = int(parts[0])\n",
    "            inches = int(parts[1])\n",
    "        else:\n",
    "            try:\n",
    "                feet = int(parts[0])\n",
    "                inches = 0\n",
    "            except ValueError:\n",
    "                return None  # Handle unexpected or missing values\n",
    "        total_inches = feet * 12 + inches\n",
    "        cm = total_inches * 2.54\n",
    "        return float(cm)  # Convert calculated height to float\n",
    "    return None  "
   ]
  },
  {
   "cell_type": "code",
   "execution_count": 57,
   "id": "77970716",
   "metadata": {},
   "outputs": [],
   "source": [
    "# applying the conversion function to the 'ht' column\n",
    "df['ht_cm'] = df['ht'].apply(feet_inches_to_cm)"
   ]
  },
  {
   "cell_type": "code",
   "execution_count": 58,
   "id": "3b34c0ef",
   "metadata": {
    "scrolled": false
   },
   "outputs": [
    {
     "name": "stdout",
     "output_type": "stream",
     "text": [
      "<class 'pandas.core.series.Series'>\n",
      "RangeIndex: 56091 entries, 0 to 56090\n",
      "Series name: ht_cm\n",
      "Non-Null Count  Dtype  \n",
      "--------------  -----  \n",
      "52090 non-null  float64\n",
      "dtypes: float64(1)\n",
      "memory usage: 438.3 KB\n"
     ]
    }
   ],
   "source": [
    "df['ht_cm'].info()"
   ]
  },
  {
   "cell_type": "markdown",
   "id": "346e05c6",
   "metadata": {},
   "source": [
    "Removing nulls"
   ]
  },
  {
   "cell_type": "code",
   "execution_count": 51,
   "id": "62c9262e-b74b-4003-8f9f-abba1dcd988e",
   "metadata": {
    "tags": []
   },
   "outputs": [],
   "source": [
    "df=df.dropna()"
   ]
  },
  {
   "cell_type": "markdown",
   "id": "161aabe7",
   "metadata": {},
   "source": [
    "Splitting data into features and target"
   ]
  },
  {
   "cell_type": "code",
   "execution_count": 59,
   "id": "e4aae5f7-3dac-4f99-83a0-b967a74222eb",
   "metadata": {
    "tags": []
   },
   "outputs": [],
   "source": [
    "features = df.drop(['player_id','drafted','ht'],axis=1)\n",
    "target = df['drafted']"
   ]
  },
  {
   "cell_type": "markdown",
   "id": "38439358",
   "metadata": {},
   "source": [
    "One-hot-encoding"
   ]
  },
  {
   "cell_type": "code",
   "execution_count": 60,
   "id": "da170b9e-bfe0-4b93-819e-53ed109f4d63",
   "metadata": {
    "tags": []
   },
   "outputs": [],
   "source": [
    "features = pd.get_dummies(features)"
   ]
  },
  {
   "cell_type": "code",
   "execution_count": 61,
   "id": "0dc83fa2-edfe-4731-bd9e-996da1a92280",
   "metadata": {
    "tags": []
   },
   "outputs": [
    {
     "name": "stdout",
     "output_type": "stream",
     "text": [
      "(56091, 504) (56091,)\n"
     ]
    }
   ],
   "source": [
    "print(features.shape,target.shape)"
   ]
  },
  {
   "cell_type": "code",
   "execution_count": 62,
   "id": "3786f48f-24c3-402b-b99e-633eb30bf4da",
   "metadata": {
    "tags": []
   },
   "outputs": [],
   "source": [
    "from sklearn.model_selection import train_test_split"
   ]
  },
  {
   "cell_type": "code",
   "execution_count": 63,
   "id": "37e48adf-0f81-4998-98be-80eeeaebfbab",
   "metadata": {
    "tags": []
   },
   "outputs": [],
   "source": [
    "X_train, X_val, y_train, y_val = train_test_split(features, target, test_size=0.2, random_state=42)"
   ]
  },
  {
   "cell_type": "code",
   "execution_count": 64,
   "id": "2969a271-3e08-4754-a487-001e7215cb69",
   "metadata": {
    "tags": []
   },
   "outputs": [],
   "source": [
    "from sklearn.preprocessing import StandardScaler"
   ]
  },
  {
   "cell_type": "code",
   "execution_count": 65,
   "id": "c522bac9-4706-4afa-adcb-699b199c4bee",
   "metadata": {
    "tags": []
   },
   "outputs": [],
   "source": [
    "scaler = StandardScaler()\n",
    "X_train_scaled = scaler.fit_transform(X_train)\n",
    "X_val_scaled = scaler.transform(X_val)"
   ]
  },
  {
   "cell_type": "markdown",
   "id": "461ae854",
   "metadata": {},
   "source": [
    "Training the model"
   ]
  },
  {
   "cell_type": "code",
   "execution_count": 66,
   "id": "ba930481-d636-4b6a-94bd-2de55eefe70c",
   "metadata": {
    "tags": []
   },
   "outputs": [],
   "source": [
    "from xgboost import XGBClassifier"
   ]
  },
  {
   "cell_type": "code",
   "execution_count": 67,
   "id": "9c402ca6-04ab-422e-ad8d-207d79a43445",
   "metadata": {
    "tags": []
   },
   "outputs": [
    {
     "data": {
      "text/html": [
       "<style>#sk-container-id-1 {color: black;}#sk-container-id-1 pre{padding: 0;}#sk-container-id-1 div.sk-toggleable {background-color: white;}#sk-container-id-1 label.sk-toggleable__label {cursor: pointer;display: block;width: 100%;margin-bottom: 0;padding: 0.3em;box-sizing: border-box;text-align: center;}#sk-container-id-1 label.sk-toggleable__label-arrow:before {content: \"▸\";float: left;margin-right: 0.25em;color: #696969;}#sk-container-id-1 label.sk-toggleable__label-arrow:hover:before {color: black;}#sk-container-id-1 div.sk-estimator:hover label.sk-toggleable__label-arrow:before {color: black;}#sk-container-id-1 div.sk-toggleable__content {max-height: 0;max-width: 0;overflow: hidden;text-align: left;background-color: #f0f8ff;}#sk-container-id-1 div.sk-toggleable__content pre {margin: 0.2em;color: black;border-radius: 0.25em;background-color: #f0f8ff;}#sk-container-id-1 input.sk-toggleable__control:checked~div.sk-toggleable__content {max-height: 200px;max-width: 100%;overflow: auto;}#sk-container-id-1 input.sk-toggleable__control:checked~label.sk-toggleable__label-arrow:before {content: \"▾\";}#sk-container-id-1 div.sk-estimator input.sk-toggleable__control:checked~label.sk-toggleable__label {background-color: #d4ebff;}#sk-container-id-1 div.sk-label input.sk-toggleable__control:checked~label.sk-toggleable__label {background-color: #d4ebff;}#sk-container-id-1 input.sk-hidden--visually {border: 0;clip: rect(1px 1px 1px 1px);clip: rect(1px, 1px, 1px, 1px);height: 1px;margin: -1px;overflow: hidden;padding: 0;position: absolute;width: 1px;}#sk-container-id-1 div.sk-estimator {font-family: monospace;background-color: #f0f8ff;border: 1px dotted black;border-radius: 0.25em;box-sizing: border-box;margin-bottom: 0.5em;}#sk-container-id-1 div.sk-estimator:hover {background-color: #d4ebff;}#sk-container-id-1 div.sk-parallel-item::after {content: \"\";width: 100%;border-bottom: 1px solid gray;flex-grow: 1;}#sk-container-id-1 div.sk-label:hover label.sk-toggleable__label {background-color: #d4ebff;}#sk-container-id-1 div.sk-serial::before {content: \"\";position: absolute;border-left: 1px solid gray;box-sizing: border-box;top: 0;bottom: 0;left: 50%;z-index: 0;}#sk-container-id-1 div.sk-serial {display: flex;flex-direction: column;align-items: center;background-color: white;padding-right: 0.2em;padding-left: 0.2em;position: relative;}#sk-container-id-1 div.sk-item {position: relative;z-index: 1;}#sk-container-id-1 div.sk-parallel {display: flex;align-items: stretch;justify-content: center;background-color: white;position: relative;}#sk-container-id-1 div.sk-item::before, #sk-container-id-1 div.sk-parallel-item::before {content: \"\";position: absolute;border-left: 1px solid gray;box-sizing: border-box;top: 0;bottom: 0;left: 50%;z-index: -1;}#sk-container-id-1 div.sk-parallel-item {display: flex;flex-direction: column;z-index: 1;position: relative;background-color: white;}#sk-container-id-1 div.sk-parallel-item:first-child::after {align-self: flex-end;width: 50%;}#sk-container-id-1 div.sk-parallel-item:last-child::after {align-self: flex-start;width: 50%;}#sk-container-id-1 div.sk-parallel-item:only-child::after {width: 0;}#sk-container-id-1 div.sk-dashed-wrapped {border: 1px dashed gray;margin: 0 0.4em 0.5em 0.4em;box-sizing: border-box;padding-bottom: 0.4em;background-color: white;}#sk-container-id-1 div.sk-label label {font-family: monospace;font-weight: bold;display: inline-block;line-height: 1.2em;}#sk-container-id-1 div.sk-label-container {text-align: center;}#sk-container-id-1 div.sk-container {/* jupyter's `normalize.less` sets `[hidden] { display: none; }` but bootstrap.min.css set `[hidden] { display: none !important; }` so we also need the `!important` here to be able to override the default hidden behavior on the sphinx rendered scikit-learn.org. See: https://github.com/scikit-learn/scikit-learn/issues/21755 */display: inline-block !important;position: relative;}#sk-container-id-1 div.sk-text-repr-fallback {display: none;}</style><div id=\"sk-container-id-1\" class=\"sk-top-container\"><div class=\"sk-text-repr-fallback\"><pre>XGBClassifier(base_score=None, booster=None, callbacks=None,\n",
       "              colsample_bylevel=None, colsample_bynode=None,\n",
       "              colsample_bytree=None, early_stopping_rounds=None,\n",
       "              enable_categorical=False, eval_metric=None, feature_types=None,\n",
       "              gamma=None, gpu_id=None, grow_policy=None, importance_type=None,\n",
       "              interaction_constraints=None, learning_rate=None, max_bin=None,\n",
       "              max_cat_threshold=None, max_cat_to_onehot=None,\n",
       "              max_delta_step=None, max_depth=None, max_leaves=None,\n",
       "              min_child_weight=None, missing=nan, monotone_constraints=None,\n",
       "              n_estimators=100, n_jobs=None, num_parallel_tree=None,\n",
       "              predictor=None, random_state=None, ...)</pre><b>In a Jupyter environment, please rerun this cell to show the HTML representation or trust the notebook. <br />On GitHub, the HTML representation is unable to render, please try loading this page with nbviewer.org.</b></div><div class=\"sk-container\" hidden><div class=\"sk-item\"><div class=\"sk-estimator sk-toggleable\"><input class=\"sk-toggleable__control sk-hidden--visually\" id=\"sk-estimator-id-1\" type=\"checkbox\" checked><label for=\"sk-estimator-id-1\" class=\"sk-toggleable__label sk-toggleable__label-arrow\">XGBClassifier</label><div class=\"sk-toggleable__content\"><pre>XGBClassifier(base_score=None, booster=None, callbacks=None,\n",
       "              colsample_bylevel=None, colsample_bynode=None,\n",
       "              colsample_bytree=None, early_stopping_rounds=None,\n",
       "              enable_categorical=False, eval_metric=None, feature_types=None,\n",
       "              gamma=None, gpu_id=None, grow_policy=None, importance_type=None,\n",
       "              interaction_constraints=None, learning_rate=None, max_bin=None,\n",
       "              max_cat_threshold=None, max_cat_to_onehot=None,\n",
       "              max_delta_step=None, max_depth=None, max_leaves=None,\n",
       "              min_child_weight=None, missing=nan, monotone_constraints=None,\n",
       "              n_estimators=100, n_jobs=None, num_parallel_tree=None,\n",
       "              predictor=None, random_state=None, ...)</pre></div></div></div></div></div>"
      ],
      "text/plain": [
       "XGBClassifier(base_score=None, booster=None, callbacks=None,\n",
       "              colsample_bylevel=None, colsample_bynode=None,\n",
       "              colsample_bytree=None, early_stopping_rounds=None,\n",
       "              enable_categorical=False, eval_metric=None, feature_types=None,\n",
       "              gamma=None, gpu_id=None, grow_policy=None, importance_type=None,\n",
       "              interaction_constraints=None, learning_rate=None, max_bin=None,\n",
       "              max_cat_threshold=None, max_cat_to_onehot=None,\n",
       "              max_delta_step=None, max_depth=None, max_leaves=None,\n",
       "              min_child_weight=None, missing=nan, monotone_constraints=None,\n",
       "              n_estimators=100, n_jobs=None, num_parallel_tree=None,\n",
       "              predictor=None, random_state=None, ...)"
      ]
     },
     "execution_count": 67,
     "metadata": {},
     "output_type": "execute_result"
    }
   ],
   "source": [
    "# Model training (XGBoost)\n",
    "xgb = XGBClassifier()\n",
    "xgb.fit(X_train_scaled, y_train)"
   ]
  },
  {
   "cell_type": "code",
   "execution_count": 68,
   "id": "92a402a0-cc4e-4018-859b-fafacd393655",
   "metadata": {
    "tags": []
   },
   "outputs": [],
   "source": [
    "from sklearn.metrics import roc_auc_score"
   ]
  },
  {
   "cell_type": "code",
   "execution_count": 69,
   "id": "b47a588c-453d-424a-b8ea-dc50b0f5348c",
   "metadata": {
    "tags": []
   },
   "outputs": [
    {
     "name": "stdout",
     "output_type": "stream",
     "text": [
      "XGBoost AUROC: 0.9988\n"
     ]
    }
   ],
   "source": [
    "# Model evaluation (Random Forest)\n",
    "y_pred_prob = xgb.predict_proba(X_val_scaled)[:, 1]\n",
    "roc_auc = roc_auc_score(y_val, y_pred_prob)\n",
    "print(f'XGBoost AUROC: {roc_auc:.4f}')"
   ]
  },
  {
   "cell_type": "code",
   "execution_count": 70,
   "id": "ebd0f7d7-6ac1-49a5-95f1-9f0bfbae2a6e",
   "metadata": {
    "tags": []
   },
   "outputs": [],
   "source": [
    "test_data = pd.read_csv('../data/raw/test.csv',low_memory=False)"
   ]
  },
  {
   "cell_type": "code",
   "execution_count": 71,
   "id": "6e049a15-04f7-45d2-b7dc-0fbbc7641bb3",
   "metadata": {
    "tags": []
   },
   "outputs": [],
   "source": [
    "test_data_processed = pd.get_dummies(test_data)\n",
    "test_data_processed = test_data_processed.reindex(columns=features.columns, fill_value=0)  # Align columns\n",
    "test_data_scaled = scaler.transform(test_data_processed)\n",
    "predictions = xgb.predict_proba(test_data_scaled)[:,1]"
   ]
  },
  {
   "cell_type": "code",
   "execution_count": 72,
   "id": "bd8bbfd2-0e0c-4a91-b89c-f6a7a853ea87",
   "metadata": {
    "scrolled": true,
    "tags": []
   },
   "outputs": [
    {
     "name": "stdout",
     "output_type": "stream",
     "text": [
      "                                 player_id       drafted\n",
      "0     cf302b4d-84f7-4124-a25d-a75eed31978b  2.229679e-06\n",
      "1     f91837cd-4f49-4b70-963d-aeb82c6ce3da  2.794986e-06\n",
      "2     53ec2a29-1e7d-4c6d-86d7-d60d02af8916  1.329532e-05\n",
      "3     32402798-471c-4a54-8cb4-29cd95199014  3.825915e-06\n",
      "4     73b960f9-27b8-4431-9d23-a760e9bbc360  2.705162e-06\n",
      "...                                    ...           ...\n",
      "4965  a25ee55f-02a3-4f8e-8194-a5f427e14e7c  3.745262e-06\n",
      "4966  d0d9f45e-7b01-44b3-8d40-514ec338611d  9.100883e-07\n",
      "4967  f8df22c4-1602-4fab-896d-8820951aae2f  6.377062e-07\n",
      "4968  b791c69a-f769-4163-afda-051a6fd20a9d  6.377062e-07\n",
      "4969  18b51f5d-4746-4121-88fd-c8d0a1399130  1.612597e-06\n",
      "\n",
      "[4970 rows x 2 columns]\n"
     ]
    }
   ],
   "source": [
    "test_data['drafted'] = predictions\n",
    "print(test_data[['player_id', 'drafted']])"
   ]
  },
  {
   "cell_type": "code",
   "execution_count": 73,
   "id": "44c7dab5-f0f1-4cc1-b310-8310037fb818",
   "metadata": {
    "tags": []
   },
   "outputs": [],
   "source": [
    "test_data[['player_id', 'drafted']].to_csv('predictions_xgb_refined.csv',index=False)"
   ]
  },
  {
   "cell_type": "code",
   "execution_count": null,
   "id": "8b23443f",
   "metadata": {},
   "outputs": [],
   "source": []
  },
  {
   "cell_type": "code",
   "execution_count": null,
   "id": "625814fe",
   "metadata": {},
   "outputs": [],
   "source": []
  },
  {
   "cell_type": "code",
   "execution_count": null,
   "id": "df871ff2",
   "metadata": {},
   "outputs": [],
   "source": []
  },
  {
   "cell_type": "code",
   "execution_count": null,
   "id": "d51302e2",
   "metadata": {},
   "outputs": [],
   "source": []
  },
  {
   "cell_type": "code",
   "execution_count": null,
   "id": "c259ac93",
   "metadata": {},
   "outputs": [],
   "source": []
  },
  {
   "cell_type": "code",
   "execution_count": null,
   "id": "1ca93f1c",
   "metadata": {},
   "outputs": [],
   "source": []
  },
  {
   "cell_type": "code",
   "execution_count": null,
   "id": "c1123a88",
   "metadata": {},
   "outputs": [],
   "source": []
  },
  {
   "cell_type": "code",
   "execution_count": 14,
   "id": "c9119fd1-2eff-46d0-b744-699a1affe916",
   "metadata": {
    "tags": []
   },
   "outputs": [],
   "source": [
    "from catboost import CatBoostClassifier"
   ]
  },
  {
   "cell_type": "markdown",
   "id": "f6d6204e",
   "metadata": {},
   "source": [
    "Training the model"
   ]
  },
  {
   "cell_type": "code",
   "execution_count": 15,
   "id": "ca754b97-1db4-4be5-9f2a-d4ab655e9ddd",
   "metadata": {
    "tags": []
   },
   "outputs": [
    {
     "data": {
      "text/plain": [
       "<catboost.core.CatBoostClassifier at 0x1fdaa92eed0>"
      ]
     },
     "execution_count": 15,
     "metadata": {},
     "output_type": "execute_result"
    }
   ],
   "source": [
    "# Model training (CatBoost)\n",
    "cb = CatBoostClassifier(n_estimators=150, random_state=8, verbose=0)\n",
    "cb.fit(X_train_scaled, y_train)"
   ]
  },
  {
   "cell_type": "code",
   "execution_count": 16,
   "id": "d8c4453a-964a-4a14-bb7f-3f088ff3f25a",
   "metadata": {
    "tags": []
   },
   "outputs": [],
   "source": [
    "from sklearn.metrics import roc_auc_score"
   ]
  },
  {
   "cell_type": "code",
   "execution_count": 17,
   "id": "9e4aa90d-bf63-4af1-9cc9-274f0da8c88e",
   "metadata": {
    "scrolled": true,
    "tags": []
   },
   "outputs": [
    {
     "name": "stdout",
     "output_type": "stream",
     "text": [
      "Cat Boost AUROC: 0.8991\n"
     ]
    }
   ],
   "source": [
    "# Model evaluation (LightGBM)\n",
    "y_pred_prob = cb.predict_proba(X_val_scaled)[:, 1]\n",
    "roc_auc = roc_auc_score(y_val, y_pred_prob)\n",
    "print(f'Cat Boost AUROC: {roc_auc:.4f}')"
   ]
  },
  {
   "cell_type": "markdown",
   "id": "ead90f26",
   "metadata": {},
   "source": [
    "Final testing"
   ]
  },
  {
   "cell_type": "code",
   "execution_count": 18,
   "id": "7d4cc22f-e759-4e46-8c77-fdd4583dbce8",
   "metadata": {
    "tags": []
   },
   "outputs": [],
   "source": [
    "test_data = pd.read_csv('../data/raw/test.csv',low_memory=False)"
   ]
  },
  {
   "cell_type": "code",
   "execution_count": 19,
   "id": "e5f2b9b4-828f-4c27-a688-b9fe61eddcb1",
   "metadata": {
    "tags": []
   },
   "outputs": [],
   "source": [
    "test_data_processed = pd.get_dummies(test_data)\n",
    "test_data_processed = test_data_processed.reindex(columns=features.columns, fill_value=0) \n",
    "test_data_scaled = scaler.transform(test_data_processed)\n",
    "predictions = cb.predict_proba(test_data_scaled)[:,1]"
   ]
  },
  {
   "cell_type": "code",
   "execution_count": 20,
   "id": "932b678c-b14c-443b-8bfb-0d104c4c34a0",
   "metadata": {
    "scrolled": true,
    "tags": []
   },
   "outputs": [
    {
     "name": "stdout",
     "output_type": "stream",
     "text": [
      "                                 player_id   drafted\n",
      "0     cf302b4d-84f7-4124-a25d-a75eed31978b  0.156081\n",
      "1     f91837cd-4f49-4b70-963d-aeb82c6ce3da  0.135288\n",
      "2     53ec2a29-1e7d-4c6d-86d7-d60d02af8916  0.363793\n",
      "3     32402798-471c-4a54-8cb4-29cd95199014  0.231430\n",
      "4     73b960f9-27b8-4431-9d23-a760e9bbc360  0.603604\n",
      "...                                    ...       ...\n",
      "4965  a25ee55f-02a3-4f8e-8194-a5f427e14e7c  0.079086\n",
      "4966  d0d9f45e-7b01-44b3-8d40-514ec338611d  0.012200\n",
      "4967  f8df22c4-1602-4fab-896d-8820951aae2f  0.014382\n",
      "4968  b791c69a-f769-4163-afda-051a6fd20a9d  0.014207\n",
      "4969  18b51f5d-4746-4121-88fd-c8d0a1399130  0.064051\n",
      "\n",
      "[4970 rows x 2 columns]\n"
     ]
    }
   ],
   "source": [
    "test_data['drafted'] = predictions\n",
    "print(test_data[['player_id', 'drafted']])"
   ]
  },
  {
   "cell_type": "code",
   "execution_count": 21,
   "id": "924f8e97-249f-4bef-b38d-fc053c0f9c0e",
   "metadata": {
    "scrolled": false,
    "tags": []
   },
   "outputs": [
    {
     "name": "stdout",
     "output_type": "stream",
     "text": [
      "(4970, 64)\n"
     ]
    }
   ],
   "source": [
    "print(test_data.shape)"
   ]
  },
  {
   "cell_type": "markdown",
   "id": "d08459c2",
   "metadata": {},
   "source": [
    "Saving to csv"
   ]
  },
  {
   "cell_type": "code",
   "execution_count": 22,
   "id": "7a26019c-dd60-48ee-a6f4-57326ca50d5b",
   "metadata": {
    "tags": []
   },
   "outputs": [],
   "source": [
    "test_data[['player_id', 'drafted']].to_csv('predictions_cat.csv',index=False)"
   ]
  },
  {
   "cell_type": "code",
   "execution_count": null,
   "id": "db109ce2",
   "metadata": {},
   "outputs": [],
   "source": []
  }
 ],
 "metadata": {
  "kernelspec": {
   "display_name": "Python 3 (ipykernel)",
   "language": "python",
   "name": "python3"
  },
  "language_info": {
   "codemirror_mode": {
    "name": "ipython",
    "version": 3
   },
   "file_extension": ".py",
   "mimetype": "text/x-python",
   "name": "python",
   "nbconvert_exporter": "python",
   "pygments_lexer": "ipython3",
   "version": "3.11.4"
  }
 },
 "nbformat": 4,
 "nbformat_minor": 5
}
