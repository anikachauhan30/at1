{
 "cells": [
  {
   "cell_type": "markdown",
   "id": "c71e0161-79a6-4e9c-8543-77ff2ab8d22e",
   "metadata": {},
   "source": [
    "Importing pandas and numpy"
   ]
  },
  {
   "cell_type": "code",
   "execution_count": 1,
   "id": "7cfa809f",
   "metadata": {},
   "outputs": [],
   "source": [
    "import pandas as pd\n",
    "import numpy as np\n",
    "import joblib"
   ]
  },
  {
   "cell_type": "markdown",
   "id": "4c26b3b6-21ae-41ea-b412-3d9a9c2c4357",
   "metadata": {},
   "source": [
    "Loading training set into dataframe called df"
   ]
  },
  {
   "cell_type": "code",
   "execution_count": 2,
   "id": "b05577bf",
   "metadata": {},
   "outputs": [],
   "source": [
    "df = pd.read_csv('../data/raw/train.csv',low_memory=False)"
   ]
  },
  {
   "cell_type": "code",
   "execution_count": 3,
   "id": "c90e2881",
   "metadata": {},
   "outputs": [],
   "source": [
    "rc = ['twoPM', 'TPM', 'treb', 'Rec_Rank', 'mp'] #not usinf dporpag and dunksmiss-dunksmade as they are derived from porpag and dunksmade respectively"
   ]
  },
  {
   "cell_type": "code",
   "execution_count": 4,
   "id": "90746d6b",
   "metadata": {},
   "outputs": [
    {
     "data": {
      "text/html": [
       "<div>\n",
       "<style scoped>\n",
       "    .dataframe tbody tr th:only-of-type {\n",
       "        vertical-align: middle;\n",
       "    }\n",
       "\n",
       "    .dataframe tbody tr th {\n",
       "        vertical-align: top;\n",
       "    }\n",
       "\n",
       "    .dataframe thead th {\n",
       "        text-align: right;\n",
       "    }\n",
       "</style>\n",
       "<table border=\"1\" class=\"dataframe\">\n",
       "  <thead>\n",
       "    <tr style=\"text-align: right;\">\n",
       "      <th></th>\n",
       "      <th>twoPM</th>\n",
       "      <th>TPM</th>\n",
       "      <th>treb</th>\n",
       "      <th>Rec_Rank</th>\n",
       "      <th>mp</th>\n",
       "    </tr>\n",
       "  </thead>\n",
       "  <tbody>\n",
       "    <tr>\n",
       "      <th>count</th>\n",
       "      <td>56091.000000</td>\n",
       "      <td>56091.000000</td>\n",
       "      <td>56053.000000</td>\n",
       "      <td>17036.000000</td>\n",
       "      <td>56053.000000</td>\n",
       "    </tr>\n",
       "    <tr>\n",
       "      <th>mean</th>\n",
       "      <td>41.412401</td>\n",
       "      <td>15.677613</td>\n",
       "      <td>2.663204</td>\n",
       "      <td>53.456363</td>\n",
       "      <td>16.973259</td>\n",
       "    </tr>\n",
       "    <tr>\n",
       "      <th>std</th>\n",
       "      <td>43.730858</td>\n",
       "      <td>21.584619</td>\n",
       "      <td>2.099913</td>\n",
       "      <td>27.641745</td>\n",
       "      <td>10.623801</td>\n",
       "    </tr>\n",
       "    <tr>\n",
       "      <th>min</th>\n",
       "      <td>0.000000</td>\n",
       "      <td>0.000000</td>\n",
       "      <td>0.000000</td>\n",
       "      <td>0.200000</td>\n",
       "      <td>0.000000</td>\n",
       "    </tr>\n",
       "    <tr>\n",
       "      <th>25%</th>\n",
       "      <td>5.000000</td>\n",
       "      <td>0.000000</td>\n",
       "      <td>1.000000</td>\n",
       "      <td>30.600000</td>\n",
       "      <td>7.307700</td>\n",
       "    </tr>\n",
       "    <tr>\n",
       "      <th>50%</th>\n",
       "      <td>27.000000</td>\n",
       "      <td>5.000000</td>\n",
       "      <td>2.259300</td>\n",
       "      <td>55.400000</td>\n",
       "      <td>16.714300</td>\n",
       "    </tr>\n",
       "    <tr>\n",
       "      <th>75%</th>\n",
       "      <td>65.000000</td>\n",
       "      <td>25.000000</td>\n",
       "      <td>3.833300</td>\n",
       "      <td>77.400000</td>\n",
       "      <td>26.314300</td>\n",
       "    </tr>\n",
       "    <tr>\n",
       "      <th>max</th>\n",
       "      <td>333.000000</td>\n",
       "      <td>147.000000</td>\n",
       "      <td>14.533300</td>\n",
       "      <td>100.000000</td>\n",
       "      <td>50.000000</td>\n",
       "    </tr>\n",
       "  </tbody>\n",
       "</table>\n",
       "</div>"
      ],
      "text/plain": [
       "              twoPM           TPM          treb      Rec_Rank            mp\n",
       "count  56091.000000  56091.000000  56053.000000  17036.000000  56053.000000\n",
       "mean      41.412401     15.677613      2.663204     53.456363     16.973259\n",
       "std       43.730858     21.584619      2.099913     27.641745     10.623801\n",
       "min        0.000000      0.000000      0.000000      0.200000      0.000000\n",
       "25%        5.000000      0.000000      1.000000     30.600000      7.307700\n",
       "50%       27.000000      5.000000      2.259300     55.400000     16.714300\n",
       "75%       65.000000     25.000000      3.833300     77.400000     26.314300\n",
       "max      333.000000    147.000000     14.533300    100.000000     50.000000"
      ]
     },
     "execution_count": 4,
     "metadata": {},
     "output_type": "execute_result"
    }
   ],
   "source": [
    "df[rc].describe()"
   ]
  },
  {
   "cell_type": "markdown",
   "id": "161aabe7",
   "metadata": {},
   "source": [
    "Splitting data into features and target"
   ]
  },
  {
   "cell_type": "code",
   "execution_count": 5,
   "id": "0ac79189",
   "metadata": {},
   "outputs": [],
   "source": [
    "features = df[rc]\n",
    "target = df['drafted']"
   ]
  },
  {
   "cell_type": "code",
   "execution_count": 6,
   "id": "0dc83fa2-edfe-4731-bd9e-996da1a92280",
   "metadata": {
    "tags": []
   },
   "outputs": [
    {
     "name": "stdout",
     "output_type": "stream",
     "text": [
      "(56091, 5) (56091,)\n"
     ]
    }
   ],
   "source": [
    "print(features.shape,target.shape)"
   ]
  },
  {
   "cell_type": "code",
   "execution_count": 7,
   "id": "3786f48f-24c3-402b-b99e-633eb30bf4da",
   "metadata": {
    "tags": []
   },
   "outputs": [],
   "source": [
    "from sklearn.model_selection import train_test_split"
   ]
  },
  {
   "cell_type": "code",
   "execution_count": 8,
   "id": "37e48adf-0f81-4998-98be-80eeeaebfbab",
   "metadata": {
    "tags": []
   },
   "outputs": [],
   "source": [
    "X_train, X_val, y_train, y_val = train_test_split(features, target, test_size=0.2, random_state=42)"
   ]
  },
  {
   "cell_type": "code",
   "execution_count": 9,
   "id": "bef1413d",
   "metadata": {},
   "outputs": [],
   "source": [
    "from sklearn.impute import SimpleImputer"
   ]
  },
  {
   "cell_type": "code",
   "execution_count": 10,
   "id": "a93af3ce",
   "metadata": {},
   "outputs": [],
   "source": [
    "imputer = SimpleImputer(strategy='mean')\n",
    "X_train_imputed = imputer.fit_transform(X_train)\n",
    "X_val_imputed = imputer.transform(X_val)"
   ]
  },
  {
   "cell_type": "code",
   "execution_count": 11,
   "id": "2969a271-3e08-4754-a487-001e7215cb69",
   "metadata": {
    "tags": []
   },
   "outputs": [],
   "source": [
    "from sklearn.preprocessing import StandardScaler"
   ]
  },
  {
   "cell_type": "code",
   "execution_count": 12,
   "id": "c522bac9-4706-4afa-adcb-699b199c4bee",
   "metadata": {
    "tags": []
   },
   "outputs": [],
   "source": [
    "scaler = StandardScaler()\n",
    "X_train_scaled = scaler.fit_transform(X_train_imputed)\n",
    "X_val_scaled = scaler.transform(X_val_imputed)"
   ]
  },
  {
   "cell_type": "markdown",
   "id": "461ae854",
   "metadata": {},
   "source": [
    "Training the model"
   ]
  },
  {
   "cell_type": "code",
   "execution_count": 13,
   "id": "ba930481-d636-4b6a-94bd-2de55eefe70c",
   "metadata": {
    "tags": []
   },
   "outputs": [],
   "source": [
    "from xgboost import XGBClassifier"
   ]
  },
  {
   "cell_type": "markdown",
   "id": "edc35261",
   "metadata": {},
   "source": [
    "grid search for best parameters"
   ]
  },
  {
   "cell_type": "code",
   "execution_count": 14,
   "id": "d9181a68",
   "metadata": {},
   "outputs": [],
   "source": [
    "best_auc = 0\n",
    "best_gamma = None\n",
    "best_alpha = None\n",
    "gamma_values = [0, 0.001, 0.01, 0.1, 1, 10]\n",
    "alpha_values = [0, 0.001, 0.01, 0.1, 1, 10]"
   ]
  },
  {
   "cell_type": "code",
   "execution_count": 15,
   "id": "92a402a0-cc4e-4018-859b-fafacd393655",
   "metadata": {
    "tags": []
   },
   "outputs": [],
   "source": [
    "from sklearn.metrics import roc_auc_score"
   ]
  },
  {
   "cell_type": "code",
   "execution_count": 16,
   "id": "80e77d94",
   "metadata": {},
   "outputs": [],
   "source": [
    "for gamma in gamma_values:\n",
    "    for alpha in alpha_values:\n",
    "        # Model training with regularization (XGBoost)\n",
    "        xgb = XGBClassifier(gamma=gamma, alpha=alpha)\n",
    "        xgb.fit(X_train_scaled, y_train)\n",
    "        \n",
    "        # Model evaluation with regularization (XGBoost)\n",
    "        y_pred_prob = xgb.predict_proba(X_val_scaled)[:, 1]\n",
    "        roc_auc = roc_auc_score(y_val, y_pred_prob)\n",
    "        \n",
    "        if roc_auc > best_auc:\n",
    "            best_auc = roc_auc\n",
    "            best_gamma = gamma\n",
    "            best_alpha = alpha"
   ]
  },
  {
   "cell_type": "markdown",
   "id": "1083dce4",
   "metadata": {},
   "source": [
    "Training final model with best parameters"
   ]
  },
  {
   "cell_type": "code",
   "execution_count": 17,
   "id": "25ceaf5e",
   "metadata": {},
   "outputs": [
    {
     "data": {
      "text/html": [
       "<style>#sk-container-id-1 {color: black;}#sk-container-id-1 pre{padding: 0;}#sk-container-id-1 div.sk-toggleable {background-color: white;}#sk-container-id-1 label.sk-toggleable__label {cursor: pointer;display: block;width: 100%;margin-bottom: 0;padding: 0.3em;box-sizing: border-box;text-align: center;}#sk-container-id-1 label.sk-toggleable__label-arrow:before {content: \"▸\";float: left;margin-right: 0.25em;color: #696969;}#sk-container-id-1 label.sk-toggleable__label-arrow:hover:before {color: black;}#sk-container-id-1 div.sk-estimator:hover label.sk-toggleable__label-arrow:before {color: black;}#sk-container-id-1 div.sk-toggleable__content {max-height: 0;max-width: 0;overflow: hidden;text-align: left;background-color: #f0f8ff;}#sk-container-id-1 div.sk-toggleable__content pre {margin: 0.2em;color: black;border-radius: 0.25em;background-color: #f0f8ff;}#sk-container-id-1 input.sk-toggleable__control:checked~div.sk-toggleable__content {max-height: 200px;max-width: 100%;overflow: auto;}#sk-container-id-1 input.sk-toggleable__control:checked~label.sk-toggleable__label-arrow:before {content: \"▾\";}#sk-container-id-1 div.sk-estimator input.sk-toggleable__control:checked~label.sk-toggleable__label {background-color: #d4ebff;}#sk-container-id-1 div.sk-label input.sk-toggleable__control:checked~label.sk-toggleable__label {background-color: #d4ebff;}#sk-container-id-1 input.sk-hidden--visually {border: 0;clip: rect(1px 1px 1px 1px);clip: rect(1px, 1px, 1px, 1px);height: 1px;margin: -1px;overflow: hidden;padding: 0;position: absolute;width: 1px;}#sk-container-id-1 div.sk-estimator {font-family: monospace;background-color: #f0f8ff;border: 1px dotted black;border-radius: 0.25em;box-sizing: border-box;margin-bottom: 0.5em;}#sk-container-id-1 div.sk-estimator:hover {background-color: #d4ebff;}#sk-container-id-1 div.sk-parallel-item::after {content: \"\";width: 100%;border-bottom: 1px solid gray;flex-grow: 1;}#sk-container-id-1 div.sk-label:hover label.sk-toggleable__label {background-color: #d4ebff;}#sk-container-id-1 div.sk-serial::before {content: \"\";position: absolute;border-left: 1px solid gray;box-sizing: border-box;top: 0;bottom: 0;left: 50%;z-index: 0;}#sk-container-id-1 div.sk-serial {display: flex;flex-direction: column;align-items: center;background-color: white;padding-right: 0.2em;padding-left: 0.2em;position: relative;}#sk-container-id-1 div.sk-item {position: relative;z-index: 1;}#sk-container-id-1 div.sk-parallel {display: flex;align-items: stretch;justify-content: center;background-color: white;position: relative;}#sk-container-id-1 div.sk-item::before, #sk-container-id-1 div.sk-parallel-item::before {content: \"\";position: absolute;border-left: 1px solid gray;box-sizing: border-box;top: 0;bottom: 0;left: 50%;z-index: -1;}#sk-container-id-1 div.sk-parallel-item {display: flex;flex-direction: column;z-index: 1;position: relative;background-color: white;}#sk-container-id-1 div.sk-parallel-item:first-child::after {align-self: flex-end;width: 50%;}#sk-container-id-1 div.sk-parallel-item:last-child::after {align-self: flex-start;width: 50%;}#sk-container-id-1 div.sk-parallel-item:only-child::after {width: 0;}#sk-container-id-1 div.sk-dashed-wrapped {border: 1px dashed gray;margin: 0 0.4em 0.5em 0.4em;box-sizing: border-box;padding-bottom: 0.4em;background-color: white;}#sk-container-id-1 div.sk-label label {font-family: monospace;font-weight: bold;display: inline-block;line-height: 1.2em;}#sk-container-id-1 div.sk-label-container {text-align: center;}#sk-container-id-1 div.sk-container {/* jupyter's `normalize.less` sets `[hidden] { display: none; }` but bootstrap.min.css set `[hidden] { display: none !important; }` so we also need the `!important` here to be able to override the default hidden behavior on the sphinx rendered scikit-learn.org. See: https://github.com/scikit-learn/scikit-learn/issues/21755 */display: inline-block !important;position: relative;}#sk-container-id-1 div.sk-text-repr-fallback {display: none;}</style><div id=\"sk-container-id-1\" class=\"sk-top-container\"><div class=\"sk-text-repr-fallback\"><pre>XGBClassifier(alpha=10, base_score=None, booster=None, callbacks=None,\n",
       "              colsample_bylevel=None, colsample_bynode=None,\n",
       "              colsample_bytree=None, early_stopping_rounds=None,\n",
       "              enable_categorical=False, eval_metric=None, feature_types=None,\n",
       "              gamma=1, gpu_id=None, grow_policy=None, importance_type=None,\n",
       "              interaction_constraints=None, learning_rate=None, max_bin=None,\n",
       "              max_cat_threshold=None, max_cat_to_onehot=None,\n",
       "              max_delta_step=None, max_depth=None, max_leaves=None,\n",
       "              min_child_weight=None, missing=nan, monotone_constraints=None,\n",
       "              n_estimators=100, n_jobs=None, num_parallel_tree=None,\n",
       "              predictor=None, ...)</pre><b>In a Jupyter environment, please rerun this cell to show the HTML representation or trust the notebook. <br />On GitHub, the HTML representation is unable to render, please try loading this page with nbviewer.org.</b></div><div class=\"sk-container\" hidden><div class=\"sk-item\"><div class=\"sk-estimator sk-toggleable\"><input class=\"sk-toggleable__control sk-hidden--visually\" id=\"sk-estimator-id-1\" type=\"checkbox\" checked><label for=\"sk-estimator-id-1\" class=\"sk-toggleable__label sk-toggleable__label-arrow\">XGBClassifier</label><div class=\"sk-toggleable__content\"><pre>XGBClassifier(alpha=10, base_score=None, booster=None, callbacks=None,\n",
       "              colsample_bylevel=None, colsample_bynode=None,\n",
       "              colsample_bytree=None, early_stopping_rounds=None,\n",
       "              enable_categorical=False, eval_metric=None, feature_types=None,\n",
       "              gamma=1, gpu_id=None, grow_policy=None, importance_type=None,\n",
       "              interaction_constraints=None, learning_rate=None, max_bin=None,\n",
       "              max_cat_threshold=None, max_cat_to_onehot=None,\n",
       "              max_delta_step=None, max_depth=None, max_leaves=None,\n",
       "              min_child_weight=None, missing=nan, monotone_constraints=None,\n",
       "              n_estimators=100, n_jobs=None, num_parallel_tree=None,\n",
       "              predictor=None, ...)</pre></div></div></div></div></div>"
      ],
      "text/plain": [
       "XGBClassifier(alpha=10, base_score=None, booster=None, callbacks=None,\n",
       "              colsample_bylevel=None, colsample_bynode=None,\n",
       "              colsample_bytree=None, early_stopping_rounds=None,\n",
       "              enable_categorical=False, eval_metric=None, feature_types=None,\n",
       "              gamma=1, gpu_id=None, grow_policy=None, importance_type=None,\n",
       "              interaction_constraints=None, learning_rate=None, max_bin=None,\n",
       "              max_cat_threshold=None, max_cat_to_onehot=None,\n",
       "              max_delta_step=None, max_depth=None, max_leaves=None,\n",
       "              min_child_weight=None, missing=nan, monotone_constraints=None,\n",
       "              n_estimators=100, n_jobs=None, num_parallel_tree=None,\n",
       "              predictor=None, ...)"
      ]
     },
     "execution_count": 17,
     "metadata": {},
     "output_type": "execute_result"
    }
   ],
   "source": [
    "final_xgb = XGBClassifier(gamma=best_gamma, alpha=best_alpha)\n",
    "final_xgb.fit(X_train_scaled, y_train)"
   ]
  },
  {
   "cell_type": "code",
   "execution_count": 18,
   "id": "b47a588c-453d-424a-b8ea-dc50b0f5348c",
   "metadata": {
    "scrolled": true,
    "tags": []
   },
   "outputs": [
    {
     "name": "stdout",
     "output_type": "stream",
     "text": [
      "XGBoost AUROC: 0.9811\n"
     ]
    }
   ],
   "source": [
    "# Model evaluation (XGBoost)\n",
    "y_pred_prob = final_xgb.predict_proba(X_val_scaled)[:, 1]\n",
    "roc_auc = roc_auc_score(y_val, y_pred_prob)\n",
    "print(f'XGBoost AUROC: {roc_auc:.4f}')"
   ]
  },
  {
   "cell_type": "code",
   "execution_count": 19,
   "id": "b5d45d86",
   "metadata": {
    "scrolled": true
   },
   "outputs": [],
   "source": [
    "from sklearn.metrics import roc_curve\n",
    "import matplotlib.pyplot as plt"
   ]
  },
  {
   "cell_type": "code",
   "execution_count": 20,
   "id": "6941fac6",
   "metadata": {
    "scrolled": true
   },
   "outputs": [
    {
     "data": {
      "image/png": "[encoded data removed]",
      "text/plain": [
       "<Figure size 800x600 with 1 Axes>"
      ]
     },
     "metadata": {},
     "output_type": "display_data"
    }
   ],
   "source": [
    "fpr, tpr, _ = roc_curve(y_val, y_pred_prob)\n",
    "plt.figure(figsize=(8, 6))\n",
    "plt.plot(fpr, tpr, label='ROC curve (area = %0.4f)' % roc_auc)\n",
    "plt.plot([0, 1], [0, 1], 'k--')\n",
    "plt.xlim([0.0, 1.0])\n",
    "plt.ylim([0.0, 1.05])\n",
    "plt.xlabel('False Positive Rate')\n",
    "plt.ylabel('True Positive Rate')\n",
    "plt.title('Receiver Operating Characteristic (ROC)')\n",
    "plt.legend(loc='lower right')\n",
    "plt.show()"
   ]
  },
  {
   "cell_type": "code",
   "execution_count": 23,
   "id": "ebd0f7d7-6ac1-49a5-95f1-9f0bfbae2a6e",
   "metadata": {
    "tags": []
   },
   "outputs": [],
   "source": [
    "test_data = pd.read_csv('../data/raw/test.csv',low_memory=False)"
   ]
  },
  {
   "cell_type": "code",
   "execution_count": 24,
   "id": "6e049a15-04f7-45d2-b7dc-0fbbc7641bb3",
   "metadata": {
    "tags": []
   },
   "outputs": [
    {
     "name": "stderr",
     "output_type": "stream",
     "text": [
      "C:\\Users\\anika\\anaconda3\\Lib\\site-packages\\sklearn\\base.py:457: UserWarning: X has feature names, but StandardScaler was fitted without feature names\n",
      "  warnings.warn(\n"
     ]
    }
   ],
   "source": [
    "test_data_processed = pd.get_dummies(test_data)\n",
    "test_data_processed = test_data_processed.reindex(columns=features.columns, fill_value=0)  # Align columns\n",
    "test_data_scaled = scaler.transform(test_data_processed)\n",
    "predictions = final_xgb.predict_proba(test_data_scaled)[:,1]"
   ]
  },
  {
   "cell_type": "code",
   "execution_count": 25,
   "id": "bd8bbfd2-0e0c-4a91-b89c-f6a7a853ea87",
   "metadata": {
    "tags": []
   },
   "outputs": [
    {
     "name": "stdout",
     "output_type": "stream",
     "text": [
      "                                 player_id   drafted\n",
      "0     cf302b4d-84f7-4124-a25d-a75eed31978b  0.000248\n",
      "1     f91837cd-4f49-4b70-963d-aeb82c6ce3da  0.000264\n",
      "2     53ec2a29-1e7d-4c6d-86d7-d60d02af8916  0.000663\n",
      "3     32402798-471c-4a54-8cb4-29cd95199014  0.000248\n",
      "4     73b960f9-27b8-4431-9d23-a760e9bbc360  0.008997\n",
      "...                                    ...       ...\n",
      "4965  a25ee55f-02a3-4f8e-8194-a5f427e14e7c  0.003603\n",
      "4966  d0d9f45e-7b01-44b3-8d40-514ec338611d  0.000248\n",
      "4967  f8df22c4-1602-4fab-896d-8820951aae2f  0.000248\n",
      "4968  b791c69a-f769-4163-afda-051a6fd20a9d  0.000248\n",
      "4969  18b51f5d-4746-4121-88fd-c8d0a1399130  0.000337\n",
      "\n",
      "[4970 rows x 2 columns]\n"
     ]
    }
   ],
   "source": [
    "test_data['drafted'] = predictions\n",
    "print(test_data[['player_id', 'drafted']])"
   ]
  },
  {
   "cell_type": "code",
   "execution_count": 26,
   "id": "44c7dab5-f0f1-4cc1-b310-8310037fb818",
   "metadata": {
    "tags": []
   },
   "outputs": [],
   "source": [
    "test_data[['player_id', 'drafted']].to_csv('predictions_xgb_limited_features_imputed_industry_std.csv',index=False)"
   ]
  },
  {
   "cell_type": "code",
   "execution_count": null,
   "id": "90c55216",
   "metadata": {},
   "outputs": [],
   "source": []
  }
 ],
 "metadata": {
  "kernelspec": {
   "display_name": "Python 3 (ipykernel)",
   "language": "python",
   "name": "python3"
  },
  "language_info": {
   "codemirror_mode": {
    "name": "ipython",
    "version": 3
   },
   "file_extension": ".py",
   "mimetype": "text/x-python",
   "name": "python",
   "nbconvert_exporter": "python",
   "pygments_lexer": "ipython3",
   "version": "3.11.4"
  }
 },
 "nbformat": 4,
 "nbformat_minor": 5
}
