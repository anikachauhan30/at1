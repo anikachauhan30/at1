{
 "cells": [
  {
   "cell_type": "markdown",
   "id": "c71e0161-79a6-4e9c-8543-77ff2ab8d22e",
   "metadata": {},
   "source": [
    "Importing pandas and numpy"
   ]
  },
  {
   "cell_type": "code",
   "execution_count": 1,
   "id": "cf97786f-8095-4bf8-9526-14013e2edca9",
   "metadata": {
    "tags": []
   },
   "outputs": [],
   "source": [
    "import pandas as pd\n",
    "import numpy as np"
   ]
  },
  {
   "cell_type": "markdown",
   "id": "4c26b3b6-21ae-41ea-b412-3d9a9c2c4357",
   "metadata": {},
   "source": [
    "Loading training set into dataframe called df"
   ]
  },
  {
   "cell_type": "code",
   "execution_count": 2,
   "id": "812d16b9-737e-4fd0-a565-d97811889beb",
   "metadata": {
    "tags": []
   },
   "outputs": [],
   "source": [
    "df = pd.read_csv('../data/raw/train.csv',low_memory=False)"
   ]
  },
  {
   "cell_type": "code",
   "execution_count": 3,
   "id": "e7e463b6",
   "metadata": {},
   "outputs": [
    {
     "name": "stdout",
     "output_type": "stream",
     "text": [
      "<class 'pandas.core.series.Series'>\n",
      "RangeIndex: 56091 entries, 0 to 56090\n",
      "Series name: ht\n",
      "Non-Null Count  Dtype \n",
      "--------------  ----- \n",
      "56011 non-null  object\n",
      "dtypes: object(1)\n",
      "memory usage: 438.3+ KB\n"
     ]
    }
   ],
   "source": [
    "df['ht'].info()"
   ]
  },
  {
   "cell_type": "markdown",
   "id": "4f58e934",
   "metadata": {},
   "source": [
    "converting height to cm"
   ]
  },
  {
   "cell_type": "code",
   "execution_count": 4,
   "id": "de2812e4",
   "metadata": {},
   "outputs": [],
   "source": [
    "# height in centimeters\n",
    "def feet_inches_to_cm(height):\n",
    "    if isinstance(height, str):  \n",
    "        parts = height.split('-')\n",
    "        if len(parts) == 2 and parts[0].isdigit() and parts[1].isdigit():\n",
    "            feet = int(parts[0])\n",
    "            inches = int(parts[1])\n",
    "        else:\n",
    "            try:\n",
    "                feet = int(parts[0])\n",
    "                inches = 0\n",
    "            except ValueError:\n",
    "                return None  # for missing values\n",
    "        total_inches = feet * 12 + inches\n",
    "        cm = total_inches * 2.54\n",
    "        return float(cm)\n",
    "    return None  "
   ]
  },
  {
   "cell_type": "code",
   "execution_count": 5,
   "id": "77970716",
   "metadata": {},
   "outputs": [],
   "source": [
    "\n",
    "df['ht_cm'] = df['ht'].apply(feet_inches_to_cm)"
   ]
  },
  {
   "cell_type": "code",
   "execution_count": 6,
   "id": "3b34c0ef",
   "metadata": {
    "scrolled": true
   },
   "outputs": [
    {
     "name": "stdout",
     "output_type": "stream",
     "text": [
      "<class 'pandas.core.series.Series'>\n",
      "RangeIndex: 56091 entries, 0 to 56090\n",
      "Series name: ht_cm\n",
      "Non-Null Count  Dtype  \n",
      "--------------  -----  \n",
      "52090 non-null  float64\n",
      "dtypes: float64(1)\n",
      "memory usage: 438.3 KB\n"
     ]
    }
   ],
   "source": [
    "df['ht_cm'].info()"
   ]
  },
  {
   "cell_type": "code",
   "execution_count": 7,
   "id": "b484fbea",
   "metadata": {},
   "outputs": [
    {
     "name": "stdout",
     "output_type": "stream",
     "text": [
      "<class 'pandas.core.frame.DataFrame'>\n",
      "RangeIndex: 56091 entries, 0 to 56090\n",
      "Data columns (total 65 columns):\n",
      " #   Column               Non-Null Count  Dtype  \n",
      "---  ------               --------------  -----  \n",
      " 0   team                 56091 non-null  object \n",
      " 1   conf                 56091 non-null  object \n",
      " 2   GP                   56091 non-null  int64  \n",
      " 3   Min_per              56091 non-null  float64\n",
      " 4   Ortg                 56091 non-null  float64\n",
      " 5   usg                  56091 non-null  float64\n",
      " 6   eFG                  56091 non-null  float64\n",
      " 7   TS_per               56091 non-null  float64\n",
      " 8   ORB_per              56091 non-null  float64\n",
      " 9   DRB_per              56091 non-null  float64\n",
      " 10  AST_per              56091 non-null  float64\n",
      " 11  TO_per               56091 non-null  float64\n",
      " 12  FTM                  56091 non-null  int64  \n",
      " 13  FTA                  56091 non-null  int64  \n",
      " 14  FT_per               56091 non-null  float64\n",
      " 15  twoPM                56091 non-null  int64  \n",
      " 16  twoPA                56091 non-null  int64  \n",
      " 17  twoP_per             56091 non-null  float64\n",
      " 18  TPM                  56091 non-null  int64  \n",
      " 19  TPA                  56091 non-null  int64  \n",
      " 20  TP_per               56091 non-null  float64\n",
      " 21  blk_per              56091 non-null  float64\n",
      " 22  stl_per              56091 non-null  float64\n",
      " 23  ftr                  56091 non-null  float64\n",
      " 24  yr                   55817 non-null  object \n",
      " 25  ht                   56011 non-null  object \n",
      " 26  num                  51422 non-null  object \n",
      " 27  porpag               56091 non-null  float64\n",
      " 28  adjoe                56091 non-null  float64\n",
      " 29  pfr                  56091 non-null  float64\n",
      " 30  year                 56091 non-null  int64  \n",
      " 31  type                 56091 non-null  object \n",
      " 32  Rec_Rank             17036 non-null  float64\n",
      " 33  ast_tov              51901 non-null  float64\n",
      " 34  rimmade              50010 non-null  float64\n",
      " 35  rimmade_rimmiss      50010 non-null  float64\n",
      " 36  midmade              50010 non-null  float64\n",
      " 37  midmade_midmiss      50010 non-null  float64\n",
      " 38  rim_ratio            46627 non-null  float64\n",
      " 39  mid_ratio            46403 non-null  float64\n",
      " 40  dunksmade            50010 non-null  float64\n",
      " 41  dunksmiss_dunksmade  50010 non-null  float64\n",
      " 42  dunks_ratio          25298 non-null  float64\n",
      " 43  pick                 1386 non-null   float64\n",
      " 44  drtg                 56047 non-null  float64\n",
      " 45  adrtg                56047 non-null  float64\n",
      " 46  dporpag              56047 non-null  float64\n",
      " 47  stops                56047 non-null  float64\n",
      " 48  bpm                  56047 non-null  float64\n",
      " 49  obpm                 56047 non-null  float64\n",
      " 50  dbpm                 56047 non-null  float64\n",
      " 51  gbpm                 56047 non-null  float64\n",
      " 52  mp                   56053 non-null  float64\n",
      " 53  ogbpm                56047 non-null  float64\n",
      " 54  dgbpm                56047 non-null  float64\n",
      " 55  oreb                 56053 non-null  float64\n",
      " 56  dreb                 56053 non-null  float64\n",
      " 57  treb                 56053 non-null  float64\n",
      " 58  ast                  56053 non-null  float64\n",
      " 59  stl                  56053 non-null  float64\n",
      " 60  blk                  56053 non-null  float64\n",
      " 61  pts                  56053 non-null  float64\n",
      " 62  player_id            56091 non-null  object \n",
      " 63  drafted              56091 non-null  int64  \n",
      " 64  ht_cm                52090 non-null  float64\n",
      "dtypes: float64(49), int64(9), object(7)\n",
      "memory usage: 27.8+ MB\n"
     ]
    }
   ],
   "source": [
    "df.info()"
   ]
  },
  {
   "cell_type": "markdown",
   "id": "346e05c6",
   "metadata": {},
   "source": [
    "Removing nulls"
   ]
  },
  {
   "cell_type": "code",
   "execution_count": null,
   "id": "62c9262e-b74b-4003-8f9f-abba1dcd988e",
   "metadata": {
    "tags": []
   },
   "outputs": [],
   "source": []
  },
  {
   "cell_type": "code",
   "execution_count": 8,
   "id": "cdf593e0",
   "metadata": {
    "scrolled": true
   },
   "outputs": [
    {
     "name": "stdout",
     "output_type": "stream",
     "text": [
      "<class 'pandas.core.frame.DataFrame'>\n",
      "RangeIndex: 56091 entries, 0 to 56090\n",
      "Data columns (total 65 columns):\n",
      " #   Column               Non-Null Count  Dtype  \n",
      "---  ------               --------------  -----  \n",
      " 0   team                 56091 non-null  object \n",
      " 1   conf                 56091 non-null  object \n",
      " 2   GP                   56091 non-null  int64  \n",
      " 3   Min_per              56091 non-null  float64\n",
      " 4   Ortg                 56091 non-null  float64\n",
      " 5   usg                  56091 non-null  float64\n",
      " 6   eFG                  56091 non-null  float64\n",
      " 7   TS_per               56091 non-null  float64\n",
      " 8   ORB_per              56091 non-null  float64\n",
      " 9   DRB_per              56091 non-null  float64\n",
      " 10  AST_per              56091 non-null  float64\n",
      " 11  TO_per               56091 non-null  float64\n",
      " 12  FTM                  56091 non-null  int64  \n",
      " 13  FTA                  56091 non-null  int64  \n",
      " 14  FT_per               56091 non-null  float64\n",
      " 15  twoPM                56091 non-null  int64  \n",
      " 16  twoPA                56091 non-null  int64  \n",
      " 17  twoP_per             56091 non-null  float64\n",
      " 18  TPM                  56091 non-null  int64  \n",
      " 19  TPA                  56091 non-null  int64  \n",
      " 20  TP_per               56091 non-null  float64\n",
      " 21  blk_per              56091 non-null  float64\n",
      " 22  stl_per              56091 non-null  float64\n",
      " 23  ftr                  56091 non-null  float64\n",
      " 24  yr                   55817 non-null  object \n",
      " 25  ht                   56011 non-null  object \n",
      " 26  num                  51422 non-null  object \n",
      " 27  porpag               56091 non-null  float64\n",
      " 28  adjoe                56091 non-null  float64\n",
      " 29  pfr                  56091 non-null  float64\n",
      " 30  year                 56091 non-null  int64  \n",
      " 31  type                 56091 non-null  object \n",
      " 32  Rec_Rank             17036 non-null  float64\n",
      " 33  ast_tov              51901 non-null  float64\n",
      " 34  rimmade              50010 non-null  float64\n",
      " 35  rimmade_rimmiss      50010 non-null  float64\n",
      " 36  midmade              50010 non-null  float64\n",
      " 37  midmade_midmiss      50010 non-null  float64\n",
      " 38  rim_ratio            46627 non-null  float64\n",
      " 39  mid_ratio            46403 non-null  float64\n",
      " 40  dunksmade            50010 non-null  float64\n",
      " 41  dunksmiss_dunksmade  50010 non-null  float64\n",
      " 42  dunks_ratio          25298 non-null  float64\n",
      " 43  pick                 1386 non-null   float64\n",
      " 44  drtg                 56047 non-null  float64\n",
      " 45  adrtg                56047 non-null  float64\n",
      " 46  dporpag              56047 non-null  float64\n",
      " 47  stops                56047 non-null  float64\n",
      " 48  bpm                  56047 non-null  float64\n",
      " 49  obpm                 56047 non-null  float64\n",
      " 50  dbpm                 56047 non-null  float64\n",
      " 51  gbpm                 56047 non-null  float64\n",
      " 52  mp                   56053 non-null  float64\n",
      " 53  ogbpm                56047 non-null  float64\n",
      " 54  dgbpm                56047 non-null  float64\n",
      " 55  oreb                 56053 non-null  float64\n",
      " 56  dreb                 56053 non-null  float64\n",
      " 57  treb                 56053 non-null  float64\n",
      " 58  ast                  56053 non-null  float64\n",
      " 59  stl                  56053 non-null  float64\n",
      " 60  blk                  56053 non-null  float64\n",
      " 61  pts                  56053 non-null  float64\n",
      " 62  player_id            56091 non-null  object \n",
      " 63  drafted              56091 non-null  int64  \n",
      " 64  ht_cm                52090 non-null  float64\n",
      "dtypes: float64(49), int64(9), object(7)\n",
      "memory usage: 27.8+ MB\n"
     ]
    }
   ],
   "source": [
    "df.info()"
   ]
  },
  {
   "cell_type": "markdown",
   "id": "0097b557",
   "metadata": {},
   "source": [
    "Selecting numerical columns"
   ]
  },
  {
   "cell_type": "code",
   "execution_count": 9,
   "id": "d6ffe067",
   "metadata": {},
   "outputs": [],
   "source": [
    "numerical_columns = df.select_dtypes(include=[np.number]).columns"
   ]
  },
  {
   "cell_type": "code",
   "execution_count": 10,
   "id": "6c7071af",
   "metadata": {},
   "outputs": [
    {
     "data": {
      "text/plain": [
       "Index(['GP', 'Min_per', 'Ortg', 'usg', 'eFG', 'TS_per', 'ORB_per', 'DRB_per',\n",
       "       'AST_per', 'TO_per', 'FTM', 'FTA', 'FT_per', 'twoPM', 'twoPA',\n",
       "       'twoP_per', 'TPM', 'TPA', 'TP_per', 'blk_per', 'stl_per', 'ftr',\n",
       "       'porpag', 'adjoe', 'pfr', 'year', 'Rec_Rank', 'ast_tov', 'rimmade',\n",
       "       'rimmade_rimmiss', 'midmade', 'midmade_midmiss', 'rim_ratio',\n",
       "       'mid_ratio', 'dunksmade', 'dunksmiss_dunksmade', 'dunks_ratio', 'pick',\n",
       "       'drtg', 'adrtg', 'dporpag', 'stops', 'bpm', 'obpm', 'dbpm', 'gbpm',\n",
       "       'mp', 'ogbpm', 'dgbpm', 'oreb', 'dreb', 'treb', 'ast', 'stl', 'blk',\n",
       "       'pts', 'drafted', 'ht_cm'],\n",
       "      dtype='object')"
      ]
     },
     "execution_count": 10,
     "metadata": {},
     "output_type": "execute_result"
    }
   ],
   "source": [
    "numerical_columns"
   ]
  },
  {
   "cell_type": "code",
   "execution_count": 11,
   "id": "d39c345f",
   "metadata": {},
   "outputs": [
    {
     "data": {
      "text/html": [
       "<div>\n",
       "<style scoped>\n",
       "    .dataframe tbody tr th:only-of-type {\n",
       "        vertical-align: middle;\n",
       "    }\n",
       "\n",
       "    .dataframe tbody tr th {\n",
       "        vertical-align: top;\n",
       "    }\n",
       "\n",
       "    .dataframe thead th {\n",
       "        text-align: right;\n",
       "    }\n",
       "</style>\n",
       "<table border=\"1\" class=\"dataframe\">\n",
       "  <thead>\n",
       "    <tr style=\"text-align: right;\">\n",
       "      <th></th>\n",
       "      <th>GP</th>\n",
       "      <th>Min_per</th>\n",
       "      <th>Ortg</th>\n",
       "      <th>usg</th>\n",
       "      <th>eFG</th>\n",
       "      <th>TS_per</th>\n",
       "      <th>ORB_per</th>\n",
       "      <th>DRB_per</th>\n",
       "      <th>AST_per</th>\n",
       "      <th>TO_per</th>\n",
       "      <th>...</th>\n",
       "      <th>dgbpm</th>\n",
       "      <th>oreb</th>\n",
       "      <th>dreb</th>\n",
       "      <th>treb</th>\n",
       "      <th>ast</th>\n",
       "      <th>stl</th>\n",
       "      <th>blk</th>\n",
       "      <th>pts</th>\n",
       "      <th>drafted</th>\n",
       "      <th>ht_cm</th>\n",
       "    </tr>\n",
       "  </thead>\n",
       "  <tbody>\n",
       "    <tr>\n",
       "      <th>0</th>\n",
       "      <td>26</td>\n",
       "      <td>29.5</td>\n",
       "      <td>97.3</td>\n",
       "      <td>16.6</td>\n",
       "      <td>42.5</td>\n",
       "      <td>44.43</td>\n",
       "      <td>1.6</td>\n",
       "      <td>4.6</td>\n",
       "      <td>15.8</td>\n",
       "      <td>16.3</td>\n",
       "      <td>...</td>\n",
       "      <td>-1.941150</td>\n",
       "      <td>0.1923</td>\n",
       "      <td>0.6154</td>\n",
       "      <td>0.8077</td>\n",
       "      <td>1.1923</td>\n",
       "      <td>0.3462</td>\n",
       "      <td>0.0385</td>\n",
       "      <td>3.8846</td>\n",
       "      <td>0</td>\n",
       "      <td>60.96</td>\n",
       "    </tr>\n",
       "    <tr>\n",
       "      <th>1</th>\n",
       "      <td>34</td>\n",
       "      <td>60.9</td>\n",
       "      <td>108.3</td>\n",
       "      <td>14.9</td>\n",
       "      <td>52.4</td>\n",
       "      <td>54.48</td>\n",
       "      <td>3.8</td>\n",
       "      <td>6.3</td>\n",
       "      <td>13.6</td>\n",
       "      <td>19.8</td>\n",
       "      <td>...</td>\n",
       "      <td>-0.247934</td>\n",
       "      <td>0.6765</td>\n",
       "      <td>1.2647</td>\n",
       "      <td>1.9412</td>\n",
       "      <td>1.8235</td>\n",
       "      <td>0.4118</td>\n",
       "      <td>0.2353</td>\n",
       "      <td>5.9412</td>\n",
       "      <td>0</td>\n",
       "      <td>121.92</td>\n",
       "    </tr>\n",
       "    <tr>\n",
       "      <th>2</th>\n",
       "      <td>27</td>\n",
       "      <td>72.0</td>\n",
       "      <td>96.2</td>\n",
       "      <td>21.8</td>\n",
       "      <td>45.7</td>\n",
       "      <td>47.98</td>\n",
       "      <td>2.1</td>\n",
       "      <td>8.0</td>\n",
       "      <td>14.7</td>\n",
       "      <td>15.9</td>\n",
       "      <td>...</td>\n",
       "      <td>-0.883163</td>\n",
       "      <td>0.6296</td>\n",
       "      <td>2.3333</td>\n",
       "      <td>2.9630</td>\n",
       "      <td>1.9630</td>\n",
       "      <td>0.4815</td>\n",
       "      <td>0.0000</td>\n",
       "      <td>12.1852</td>\n",
       "      <td>0</td>\n",
       "      <td>121.92</td>\n",
       "    </tr>\n",
       "    <tr>\n",
       "      <th>3</th>\n",
       "      <td>30</td>\n",
       "      <td>44.5</td>\n",
       "      <td>97.7</td>\n",
       "      <td>16.0</td>\n",
       "      <td>53.6</td>\n",
       "      <td>53.69</td>\n",
       "      <td>4.1</td>\n",
       "      <td>9.4</td>\n",
       "      <td>13.7</td>\n",
       "      <td>23.8</td>\n",
       "      <td>...</td>\n",
       "      <td>-0.393459</td>\n",
       "      <td>0.7000</td>\n",
       "      <td>1.4333</td>\n",
       "      <td>2.1333</td>\n",
       "      <td>1.1000</td>\n",
       "      <td>0.5667</td>\n",
       "      <td>0.1333</td>\n",
       "      <td>4.9333</td>\n",
       "      <td>0</td>\n",
       "      <td>121.92</td>\n",
       "    </tr>\n",
       "    <tr>\n",
       "      <th>4</th>\n",
       "      <td>33</td>\n",
       "      <td>56.2</td>\n",
       "      <td>96.5</td>\n",
       "      <td>22.0</td>\n",
       "      <td>52.8</td>\n",
       "      <td>54.31</td>\n",
       "      <td>8.3</td>\n",
       "      <td>18.6</td>\n",
       "      <td>8.2</td>\n",
       "      <td>22.7</td>\n",
       "      <td>...</td>\n",
       "      <td>-0.668318</td>\n",
       "      <td>1.4242</td>\n",
       "      <td>3.3030</td>\n",
       "      <td>4.7273</td>\n",
       "      <td>0.8485</td>\n",
       "      <td>0.4545</td>\n",
       "      <td>0.3333</td>\n",
       "      <td>7.5758</td>\n",
       "      <td>0</td>\n",
       "      <td>243.84</td>\n",
       "    </tr>\n",
       "    <tr>\n",
       "      <th>...</th>\n",
       "      <td>...</td>\n",
       "      <td>...</td>\n",
       "      <td>...</td>\n",
       "      <td>...</td>\n",
       "      <td>...</td>\n",
       "      <td>...</td>\n",
       "      <td>...</td>\n",
       "      <td>...</td>\n",
       "      <td>...</td>\n",
       "      <td>...</td>\n",
       "      <td>...</td>\n",
       "      <td>...</td>\n",
       "      <td>...</td>\n",
       "      <td>...</td>\n",
       "      <td>...</td>\n",
       "      <td>...</td>\n",
       "      <td>...</td>\n",
       "      <td>...</td>\n",
       "      <td>...</td>\n",
       "      <td>...</td>\n",
       "      <td>...</td>\n",
       "    </tr>\n",
       "    <tr>\n",
       "      <th>56086</th>\n",
       "      <td>1</td>\n",
       "      <td>0.1</td>\n",
       "      <td>0.0</td>\n",
       "      <td>48.9</td>\n",
       "      <td>0.0</td>\n",
       "      <td>0.00</td>\n",
       "      <td>0.0</td>\n",
       "      <td>0.0</td>\n",
       "      <td>0.0</td>\n",
       "      <td>0.0</td>\n",
       "      <td>...</td>\n",
       "      <td>-17.439600</td>\n",
       "      <td>0.0000</td>\n",
       "      <td>0.0000</td>\n",
       "      <td>0.0000</td>\n",
       "      <td>0.0000</td>\n",
       "      <td>0.0000</td>\n",
       "      <td>0.0000</td>\n",
       "      <td>0.0000</td>\n",
       "      <td>0</td>\n",
       "      <td>335.28</td>\n",
       "    </tr>\n",
       "    <tr>\n",
       "      <th>56087</th>\n",
       "      <td>1</td>\n",
       "      <td>0.2</td>\n",
       "      <td>206.9</td>\n",
       "      <td>35.9</td>\n",
       "      <td>100.0</td>\n",
       "      <td>102.56</td>\n",
       "      <td>0.0</td>\n",
       "      <td>0.0</td>\n",
       "      <td>0.0</td>\n",
       "      <td>0.0</td>\n",
       "      <td>...</td>\n",
       "      <td>9.392350</td>\n",
       "      <td>0.0000</td>\n",
       "      <td>0.0000</td>\n",
       "      <td>0.0000</td>\n",
       "      <td>0.0000</td>\n",
       "      <td>0.0000</td>\n",
       "      <td>0.0000</td>\n",
       "      <td>4.0000</td>\n",
       "      <td>0</td>\n",
       "      <td>30.48</td>\n",
       "    </tr>\n",
       "    <tr>\n",
       "      <th>56088</th>\n",
       "      <td>1</td>\n",
       "      <td>0.6</td>\n",
       "      <td>48.5</td>\n",
       "      <td>28.9</td>\n",
       "      <td>0.0</td>\n",
       "      <td>52.63</td>\n",
       "      <td>0.0</td>\n",
       "      <td>15.9</td>\n",
       "      <td>0.0</td>\n",
       "      <td>52.9</td>\n",
       "      <td>...</td>\n",
       "      <td>-3.240610</td>\n",
       "      <td>0.0000</td>\n",
       "      <td>1.0000</td>\n",
       "      <td>1.0000</td>\n",
       "      <td>0.0000</td>\n",
       "      <td>0.0000</td>\n",
       "      <td>0.0000</td>\n",
       "      <td>2.0000</td>\n",
       "      <td>0</td>\n",
       "      <td>NaN</td>\n",
       "    </tr>\n",
       "    <tr>\n",
       "      <th>56089</th>\n",
       "      <td>1</td>\n",
       "      <td>0.1</td>\n",
       "      <td>300.0</td>\n",
       "      <td>20.0</td>\n",
       "      <td>150.0</td>\n",
       "      <td>150.00</td>\n",
       "      <td>0.0</td>\n",
       "      <td>0.0</td>\n",
       "      <td>0.0</td>\n",
       "      <td>0.0</td>\n",
       "      <td>...</td>\n",
       "      <td>16.362500</td>\n",
       "      <td>0.0000</td>\n",
       "      <td>0.0000</td>\n",
       "      <td>0.0000</td>\n",
       "      <td>0.0000</td>\n",
       "      <td>0.0000</td>\n",
       "      <td>0.0000</td>\n",
       "      <td>3.0000</td>\n",
       "      <td>0</td>\n",
       "      <td>60.96</td>\n",
       "    </tr>\n",
       "    <tr>\n",
       "      <th>56090</th>\n",
       "      <td>19</td>\n",
       "      <td>21.9</td>\n",
       "      <td>55.0</td>\n",
       "      <td>16.4</td>\n",
       "      <td>24.5</td>\n",
       "      <td>30.60</td>\n",
       "      <td>0.6</td>\n",
       "      <td>7.2</td>\n",
       "      <td>9.1</td>\n",
       "      <td>26.1</td>\n",
       "      <td>...</td>\n",
       "      <td>-4.935520</td>\n",
       "      <td>0.0455</td>\n",
       "      <td>0.9091</td>\n",
       "      <td>0.9545</td>\n",
       "      <td>0.5909</td>\n",
       "      <td>0.4091</td>\n",
       "      <td>0.0000</td>\n",
       "      <td>2.4091</td>\n",
       "      <td>0</td>\n",
       "      <td>243.84</td>\n",
       "    </tr>\n",
       "  </tbody>\n",
       "</table>\n",
       "<p>56091 rows × 58 columns</p>\n",
       "</div>"
      ],
      "text/plain": [
       "       GP  Min_per   Ortg   usg    eFG  TS_per  ORB_per  DRB_per  AST_per  \\\n",
       "0      26     29.5   97.3  16.6   42.5   44.43      1.6      4.6     15.8   \n",
       "1      34     60.9  108.3  14.9   52.4   54.48      3.8      6.3     13.6   \n",
       "2      27     72.0   96.2  21.8   45.7   47.98      2.1      8.0     14.7   \n",
       "3      30     44.5   97.7  16.0   53.6   53.69      4.1      9.4     13.7   \n",
       "4      33     56.2   96.5  22.0   52.8   54.31      8.3     18.6      8.2   \n",
       "...    ..      ...    ...   ...    ...     ...      ...      ...      ...   \n",
       "56086   1      0.1    0.0  48.9    0.0    0.00      0.0      0.0      0.0   \n",
       "56087   1      0.2  206.9  35.9  100.0  102.56      0.0      0.0      0.0   \n",
       "56088   1      0.6   48.5  28.9    0.0   52.63      0.0     15.9      0.0   \n",
       "56089   1      0.1  300.0  20.0  150.0  150.00      0.0      0.0      0.0   \n",
       "56090  19     21.9   55.0  16.4   24.5   30.60      0.6      7.2      9.1   \n",
       "\n",
       "       TO_per  ...      dgbpm    oreb    dreb    treb     ast     stl     blk  \\\n",
       "0        16.3  ...  -1.941150  0.1923  0.6154  0.8077  1.1923  0.3462  0.0385   \n",
       "1        19.8  ...  -0.247934  0.6765  1.2647  1.9412  1.8235  0.4118  0.2353   \n",
       "2        15.9  ...  -0.883163  0.6296  2.3333  2.9630  1.9630  0.4815  0.0000   \n",
       "3        23.8  ...  -0.393459  0.7000  1.4333  2.1333  1.1000  0.5667  0.1333   \n",
       "4        22.7  ...  -0.668318  1.4242  3.3030  4.7273  0.8485  0.4545  0.3333   \n",
       "...       ...  ...        ...     ...     ...     ...     ...     ...     ...   \n",
       "56086     0.0  ... -17.439600  0.0000  0.0000  0.0000  0.0000  0.0000  0.0000   \n",
       "56087     0.0  ...   9.392350  0.0000  0.0000  0.0000  0.0000  0.0000  0.0000   \n",
       "56088    52.9  ...  -3.240610  0.0000  1.0000  1.0000  0.0000  0.0000  0.0000   \n",
       "56089     0.0  ...  16.362500  0.0000  0.0000  0.0000  0.0000  0.0000  0.0000   \n",
       "56090    26.1  ...  -4.935520  0.0455  0.9091  0.9545  0.5909  0.4091  0.0000   \n",
       "\n",
       "           pts  drafted   ht_cm  \n",
       "0       3.8846        0   60.96  \n",
       "1       5.9412        0  121.92  \n",
       "2      12.1852        0  121.92  \n",
       "3       4.9333        0  121.92  \n",
       "4       7.5758        0  243.84  \n",
       "...        ...      ...     ...  \n",
       "56086   0.0000        0  335.28  \n",
       "56087   4.0000        0   30.48  \n",
       "56088   2.0000        0     NaN  \n",
       "56089   3.0000        0   60.96  \n",
       "56090   2.4091        0  243.84  \n",
       "\n",
       "[56091 rows x 58 columns]"
      ]
     },
     "execution_count": 11,
     "metadata": {},
     "output_type": "execute_result"
    }
   ],
   "source": [
    "df_num = df[numerical_columns]\n",
    "df_num"
   ]
  },
  {
   "cell_type": "markdown",
   "id": "e089de66",
   "metadata": {},
   "source": [
    "Finding correlation between features and target"
   ]
  },
  {
   "cell_type": "code",
   "execution_count": 12,
   "id": "f58c6b4f",
   "metadata": {},
   "outputs": [],
   "source": [
    "cm = df_num.corr()\n",
    "target_cm = abs(cm['drafted']).sort_values(ascending=False)"
   ]
  },
  {
   "cell_type": "markdown",
   "id": "161aabe7",
   "metadata": {},
   "source": [
    "Splitting data into features and target"
   ]
  },
  {
   "cell_type": "markdown",
   "id": "0975c618",
   "metadata": {},
   "source": [
    "selecting features with correlation > 0.5"
   ]
  },
  {
   "cell_type": "code",
   "execution_count": 13,
   "id": "2bdf1e3d",
   "metadata": {},
   "outputs": [],
   "source": [
    "selected = target_cm[target_cm > 0.5].index.tolist()\n",
    "features = df_num[selected]"
   ]
  },
  {
   "cell_type": "code",
   "execution_count": 14,
   "id": "785b7c92",
   "metadata": {},
   "outputs": [
    {
     "data": {
      "text/html": [
       "<div>\n",
       "<style scoped>\n",
       "    .dataframe tbody tr th:only-of-type {\n",
       "        vertical-align: middle;\n",
       "    }\n",
       "\n",
       "    .dataframe tbody tr th {\n",
       "        vertical-align: top;\n",
       "    }\n",
       "\n",
       "    .dataframe thead th {\n",
       "        text-align: right;\n",
       "    }\n",
       "</style>\n",
       "<table border=\"1\" class=\"dataframe\">\n",
       "  <thead>\n",
       "    <tr style=\"text-align: right;\">\n",
       "      <th></th>\n",
       "      <th>drafted</th>\n",
       "    </tr>\n",
       "  </thead>\n",
       "  <tbody>\n",
       "    <tr>\n",
       "      <th>0</th>\n",
       "      <td>0</td>\n",
       "    </tr>\n",
       "    <tr>\n",
       "      <th>1</th>\n",
       "      <td>0</td>\n",
       "    </tr>\n",
       "    <tr>\n",
       "      <th>2</th>\n",
       "      <td>0</td>\n",
       "    </tr>\n",
       "    <tr>\n",
       "      <th>3</th>\n",
       "      <td>0</td>\n",
       "    </tr>\n",
       "    <tr>\n",
       "      <th>4</th>\n",
       "      <td>0</td>\n",
       "    </tr>\n",
       "    <tr>\n",
       "      <th>...</th>\n",
       "      <td>...</td>\n",
       "    </tr>\n",
       "    <tr>\n",
       "      <th>56086</th>\n",
       "      <td>0</td>\n",
       "    </tr>\n",
       "    <tr>\n",
       "      <th>56087</th>\n",
       "      <td>0</td>\n",
       "    </tr>\n",
       "    <tr>\n",
       "      <th>56088</th>\n",
       "      <td>0</td>\n",
       "    </tr>\n",
       "    <tr>\n",
       "      <th>56089</th>\n",
       "      <td>0</td>\n",
       "    </tr>\n",
       "    <tr>\n",
       "      <th>56090</th>\n",
       "      <td>0</td>\n",
       "    </tr>\n",
       "  </tbody>\n",
       "</table>\n",
       "<p>56091 rows × 1 columns</p>\n",
       "</div>"
      ],
      "text/plain": [
       "       drafted\n",
       "0            0\n",
       "1            0\n",
       "2            0\n",
       "3            0\n",
       "4            0\n",
       "...        ...\n",
       "56086        0\n",
       "56087        0\n",
       "56088        0\n",
       "56089        0\n",
       "56090        0\n",
       "\n",
       "[56091 rows x 1 columns]"
      ]
     },
     "execution_count": 14,
     "metadata": {},
     "output_type": "execute_result"
    }
   ],
   "source": [
    "features"
   ]
  },
  {
   "cell_type": "code",
   "execution_count": 15,
   "id": "e4aae5f7-3dac-4f99-83a0-b967a74222eb",
   "metadata": {
    "scrolled": true,
    "tags": []
   },
   "outputs": [],
   "source": [
    "target = df_num['drafted']"
   ]
  },
  {
   "cell_type": "code",
   "execution_count": 16,
   "id": "0dc83fa2-edfe-4731-bd9e-996da1a92280",
   "metadata": {
    "tags": []
   },
   "outputs": [
    {
     "name": "stdout",
     "output_type": "stream",
     "text": [
      "(56091, 1) (56091,)\n"
     ]
    }
   ],
   "source": [
    "print(features.shape,target.shape)"
   ]
  },
  {
   "cell_type": "code",
   "execution_count": 17,
   "id": "3786f48f-24c3-402b-b99e-633eb30bf4da",
   "metadata": {
    "tags": []
   },
   "outputs": [],
   "source": [
    "from sklearn.model_selection import train_test_split"
   ]
  },
  {
   "cell_type": "code",
   "execution_count": 18,
   "id": "37e48adf-0f81-4998-98be-80eeeaebfbab",
   "metadata": {
    "tags": []
   },
   "outputs": [],
   "source": [
    "X_train, X_val, y_train, y_val = train_test_split(features, target, test_size=0.2, random_state=42)"
   ]
  },
  {
   "cell_type": "code",
   "execution_count": 19,
   "id": "2969a271-3e08-4754-a487-001e7215cb69",
   "metadata": {
    "tags": []
   },
   "outputs": [],
   "source": [
    "from sklearn.preprocessing import StandardScaler"
   ]
  },
  {
   "cell_type": "code",
   "execution_count": 20,
   "id": "c522bac9-4706-4afa-adcb-699b199c4bee",
   "metadata": {
    "tags": []
   },
   "outputs": [],
   "source": [
    "scaler = StandardScaler()\n",
    "X_train_scaled = scaler.fit_transform(X_train)\n",
    "X_val_scaled = scaler.transform(X_val)"
   ]
  },
  {
   "cell_type": "markdown",
   "id": "461ae854",
   "metadata": {},
   "source": [
    "Training the model"
   ]
  },
  {
   "cell_type": "code",
   "execution_count": 21,
   "id": "ba930481-d636-4b6a-94bd-2de55eefe70c",
   "metadata": {
    "tags": []
   },
   "outputs": [],
   "source": [
    "from xgboost import XGBClassifier"
   ]
  },
  {
   "cell_type": "markdown",
   "id": "edc35261",
   "metadata": {},
   "source": [
    "grid search for best parameters"
   ]
  },
  {
   "cell_type": "code",
   "execution_count": 22,
   "id": "d9181a68",
   "metadata": {},
   "outputs": [],
   "source": [
    "best_auc = 0\n",
    "best_gamma = None\n",
    "best_alpha = None\n",
    "gamma_values = [0, 0.001, 0.01, 0.1, 1, 10]\n",
    "alpha_values = [0, 0.001, 0.01, 0.1, 1, 10]"
   ]
  },
  {
   "cell_type": "code",
   "execution_count": 23,
   "id": "92a402a0-cc4e-4018-859b-fafacd393655",
   "metadata": {
    "tags": []
   },
   "outputs": [],
   "source": [
    "from sklearn.metrics import roc_auc_score"
   ]
  },
  {
   "cell_type": "code",
   "execution_count": 24,
   "id": "80e77d94",
   "metadata": {},
   "outputs": [],
   "source": [
    "for gamma in gamma_values:\n",
    "    for alpha in alpha_values:\n",
    "        # Model training with regularization (XGBoost)\n",
    "        xgb = XGBClassifier(gamma=gamma, alpha=alpha)\n",
    "        xgb.fit(X_train_scaled, y_train)\n",
    "        \n",
    "        # Model evaluation with regularization (XGBoost)\n",
    "        y_pred_prob = xgb.predict_proba(X_val_scaled)[:, 1]\n",
    "        roc_auc = roc_auc_score(y_val, y_pred_prob)\n",
    "        \n",
    "        if roc_auc > best_auc:\n",
    "            best_auc = roc_auc\n",
    "            best_gamma = gamma\n",
    "            best_alpha = alpha"
   ]
  },
  {
   "cell_type": "markdown",
   "id": "1083dce4",
   "metadata": {},
   "source": [
    "Training final model with best parameters"
   ]
  },
  {
   "cell_type": "code",
   "execution_count": 25,
   "id": "25ceaf5e",
   "metadata": {},
   "outputs": [
    {
     "data": {
      "text/html": [
       "<style>#sk-container-id-1 {color: black;}#sk-container-id-1 pre{padding: 0;}#sk-container-id-1 div.sk-toggleable {background-color: white;}#sk-container-id-1 label.sk-toggleable__label {cursor: pointer;display: block;width: 100%;margin-bottom: 0;padding: 0.3em;box-sizing: border-box;text-align: center;}#sk-container-id-1 label.sk-toggleable__label-arrow:before {content: \"▸\";float: left;margin-right: 0.25em;color: #696969;}#sk-container-id-1 label.sk-toggleable__label-arrow:hover:before {color: black;}#sk-container-id-1 div.sk-estimator:hover label.sk-toggleable__label-arrow:before {color: black;}#sk-container-id-1 div.sk-toggleable__content {max-height: 0;max-width: 0;overflow: hidden;text-align: left;background-color: #f0f8ff;}#sk-container-id-1 div.sk-toggleable__content pre {margin: 0.2em;color: black;border-radius: 0.25em;background-color: #f0f8ff;}#sk-container-id-1 input.sk-toggleable__control:checked~div.sk-toggleable__content {max-height: 200px;max-width: 100%;overflow: auto;}#sk-container-id-1 input.sk-toggleable__control:checked~label.sk-toggleable__label-arrow:before {content: \"▾\";}#sk-container-id-1 div.sk-estimator input.sk-toggleable__control:checked~label.sk-toggleable__label {background-color: #d4ebff;}#sk-container-id-1 div.sk-label input.sk-toggleable__control:checked~label.sk-toggleable__label {background-color: #d4ebff;}#sk-container-id-1 input.sk-hidden--visually {border: 0;clip: rect(1px 1px 1px 1px);clip: rect(1px, 1px, 1px, 1px);height: 1px;margin: -1px;overflow: hidden;padding: 0;position: absolute;width: 1px;}#sk-container-id-1 div.sk-estimator {font-family: monospace;background-color: #f0f8ff;border: 1px dotted black;border-radius: 0.25em;box-sizing: border-box;margin-bottom: 0.5em;}#sk-container-id-1 div.sk-estimator:hover {background-color: #d4ebff;}#sk-container-id-1 div.sk-parallel-item::after {content: \"\";width: 100%;border-bottom: 1px solid gray;flex-grow: 1;}#sk-container-id-1 div.sk-label:hover label.sk-toggleable__label {background-color: #d4ebff;}#sk-container-id-1 div.sk-serial::before {content: \"\";position: absolute;border-left: 1px solid gray;box-sizing: border-box;top: 0;bottom: 0;left: 50%;z-index: 0;}#sk-container-id-1 div.sk-serial {display: flex;flex-direction: column;align-items: center;background-color: white;padding-right: 0.2em;padding-left: 0.2em;position: relative;}#sk-container-id-1 div.sk-item {position: relative;z-index: 1;}#sk-container-id-1 div.sk-parallel {display: flex;align-items: stretch;justify-content: center;background-color: white;position: relative;}#sk-container-id-1 div.sk-item::before, #sk-container-id-1 div.sk-parallel-item::before {content: \"\";position: absolute;border-left: 1px solid gray;box-sizing: border-box;top: 0;bottom: 0;left: 50%;z-index: -1;}#sk-container-id-1 div.sk-parallel-item {display: flex;flex-direction: column;z-index: 1;position: relative;background-color: white;}#sk-container-id-1 div.sk-parallel-item:first-child::after {align-self: flex-end;width: 50%;}#sk-container-id-1 div.sk-parallel-item:last-child::after {align-self: flex-start;width: 50%;}#sk-container-id-1 div.sk-parallel-item:only-child::after {width: 0;}#sk-container-id-1 div.sk-dashed-wrapped {border: 1px dashed gray;margin: 0 0.4em 0.5em 0.4em;box-sizing: border-box;padding-bottom: 0.4em;background-color: white;}#sk-container-id-1 div.sk-label label {font-family: monospace;font-weight: bold;display: inline-block;line-height: 1.2em;}#sk-container-id-1 div.sk-label-container {text-align: center;}#sk-container-id-1 div.sk-container {/* jupyter's `normalize.less` sets `[hidden] { display: none; }` but bootstrap.min.css set `[hidden] { display: none !important; }` so we also need the `!important` here to be able to override the default hidden behavior on the sphinx rendered scikit-learn.org. See: https://github.com/scikit-learn/scikit-learn/issues/21755 */display: inline-block !important;position: relative;}#sk-container-id-1 div.sk-text-repr-fallback {display: none;}</style><div id=\"sk-container-id-1\" class=\"sk-top-container\"><div class=\"sk-text-repr-fallback\"><pre>XGBClassifier(alpha=0, base_score=None, booster=None, callbacks=None,\n",
       "              colsample_bylevel=None, colsample_bynode=None,\n",
       "              colsample_bytree=None, early_stopping_rounds=None,\n",
       "              enable_categorical=False, eval_metric=None, feature_types=None,\n",
       "              gamma=0, gpu_id=None, grow_policy=None, importance_type=None,\n",
       "              interaction_constraints=None, learning_rate=None, max_bin=None,\n",
       "              max_cat_threshold=None, max_cat_to_onehot=None,\n",
       "              max_delta_step=None, max_depth=None, max_leaves=None,\n",
       "              min_child_weight=None, missing=nan, monotone_constraints=None,\n",
       "              n_estimators=100, n_jobs=None, num_parallel_tree=None,\n",
       "              predictor=None, ...)</pre><b>In a Jupyter environment, please rerun this cell to show the HTML representation or trust the notebook. <br />On GitHub, the HTML representation is unable to render, please try loading this page with nbviewer.org.</b></div><div class=\"sk-container\" hidden><div class=\"sk-item\"><div class=\"sk-estimator sk-toggleable\"><input class=\"sk-toggleable__control sk-hidden--visually\" id=\"sk-estimator-id-1\" type=\"checkbox\" checked><label for=\"sk-estimator-id-1\" class=\"sk-toggleable__label sk-toggleable__label-arrow\">XGBClassifier</label><div class=\"sk-toggleable__content\"><pre>XGBClassifier(alpha=0, base_score=None, booster=None, callbacks=None,\n",
       "              colsample_bylevel=None, colsample_bynode=None,\n",
       "              colsample_bytree=None, early_stopping_rounds=None,\n",
       "              enable_categorical=False, eval_metric=None, feature_types=None,\n",
       "              gamma=0, gpu_id=None, grow_policy=None, importance_type=None,\n",
       "              interaction_constraints=None, learning_rate=None, max_bin=None,\n",
       "              max_cat_threshold=None, max_cat_to_onehot=None,\n",
       "              max_delta_step=None, max_depth=None, max_leaves=None,\n",
       "              min_child_weight=None, missing=nan, monotone_constraints=None,\n",
       "              n_estimators=100, n_jobs=None, num_parallel_tree=None,\n",
       "              predictor=None, ...)</pre></div></div></div></div></div>"
      ],
      "text/plain": [
       "XGBClassifier(alpha=0, base_score=None, booster=None, callbacks=None,\n",
       "              colsample_bylevel=None, colsample_bynode=None,\n",
       "              colsample_bytree=None, early_stopping_rounds=None,\n",
       "              enable_categorical=False, eval_metric=None, feature_types=None,\n",
       "              gamma=0, gpu_id=None, grow_policy=None, importance_type=None,\n",
       "              interaction_constraints=None, learning_rate=None, max_bin=None,\n",
       "              max_cat_threshold=None, max_cat_to_onehot=None,\n",
       "              max_delta_step=None, max_depth=None, max_leaves=None,\n",
       "              min_child_weight=None, missing=nan, monotone_constraints=None,\n",
       "              n_estimators=100, n_jobs=None, num_parallel_tree=None,\n",
       "              predictor=None, ...)"
      ]
     },
     "execution_count": 25,
     "metadata": {},
     "output_type": "execute_result"
    }
   ],
   "source": [
    "final_xgb = XGBClassifier(gamma=best_gamma, alpha=best_alpha)\n",
    "final_xgb.fit(X_train_scaled, y_train)"
   ]
  },
  {
   "cell_type": "code",
   "execution_count": 26,
   "id": "b47a588c-453d-424a-b8ea-dc50b0f5348c",
   "metadata": {
    "tags": []
   },
   "outputs": [
    {
     "name": "stdout",
     "output_type": "stream",
     "text": [
      "XGBoost AUROC: 1.0000\n"
     ]
    }
   ],
   "source": [
    "# Model evaluation (XGBoost)\n",
    "y_pred_prob = final_xgb.predict_proba(X_val_scaled)[:, 1]\n",
    "roc_auc = roc_auc_score(y_val, y_pred_prob)\n",
    "print(f'XGBoost AUROC: {roc_auc:.4f}')"
   ]
  },
  {
   "cell_type": "code",
   "execution_count": 27,
   "id": "b5f2548b",
   "metadata": {
    "scrolled": true
   },
   "outputs": [],
   "source": [
    "from sklearn.metrics import roc_curve\n",
    "import matplotlib.pyplot as plt"
   ]
  },
  {
   "cell_type": "code",
   "execution_count": 28,
   "id": "1b05d0e4",
   "metadata": {},
   "outputs": [
    {
     "data": {
      "image/png": "[encoded data removed]",
      "text/plain": [
       "<Figure size 800x600 with 1 Axes>"
      ]
     },
     "metadata": {},
     "output_type": "display_data"
    }
   ],
   "source": [
    "fpr, tpr, _ = roc_curve(y_val, y_pred_prob)\n",
    "plt.figure(figsize=(8, 6))\n",
    "plt.plot(fpr, tpr, label='ROC curve (area = %0.4f)' % roc_auc)\n",
    "plt.plot([0, 1], [0, 1], 'k--')\n",
    "plt.xlim([0.0, 1.0])\n",
    "plt.ylim([0.0, 1.05])\n",
    "plt.xlabel('False Positive Rate')\n",
    "plt.ylabel('True Positive Rate')\n",
    "plt.title('Receiver Operating Characteristic (ROC)')\n",
    "plt.legend(loc='lower right')\n",
    "plt.show()"
   ]
  },
  {
   "cell_type": "code",
   "execution_count": 96,
   "id": "ebd0f7d7-6ac1-49a5-95f1-9f0bfbae2a6e",
   "metadata": {
    "tags": []
   },
   "outputs": [],
   "source": [
    "test_data = pd.read_csv('../data/raw/test.csv',low_memory=False)"
   ]
  },
  {
   "cell_type": "code",
   "execution_count": 97,
   "id": "6e049a15-04f7-45d2-b7dc-0fbbc7641bb3",
   "metadata": {
    "tags": []
   },
   "outputs": [],
   "source": [
    "test_data_processed = pd.get_dummies(test_data)\n",
    "test_data_processed = test_data_processed.reindex(columns=features.columns, fill_value=0)  # Align columns\n",
    "test_data_scaled = scaler.transform(test_data_processed)\n",
    "predictions = final_xgb.predict_proba(test_data_scaled)[:,1]"
   ]
  },
  {
   "cell_type": "code",
   "execution_count": 98,
   "id": "bd8bbfd2-0e0c-4a91-b89c-f6a7a853ea87",
   "metadata": {
    "scrolled": true,
    "tags": []
   },
   "outputs": [
    {
     "name": "stdout",
     "output_type": "stream",
     "text": [
      "                                 player_id   drafted\n",
      "0     cf302b4d-84f7-4124-a25d-a75eed31978b  0.000022\n",
      "1     f91837cd-4f49-4b70-963d-aeb82c6ce3da  0.000022\n",
      "2     53ec2a29-1e7d-4c6d-86d7-d60d02af8916  0.000022\n",
      "3     32402798-471c-4a54-8cb4-29cd95199014  0.000022\n",
      "4     73b960f9-27b8-4431-9d23-a760e9bbc360  0.000022\n",
      "...                                    ...       ...\n",
      "4965  a25ee55f-02a3-4f8e-8194-a5f427e14e7c  0.000022\n",
      "4966  d0d9f45e-7b01-44b3-8d40-514ec338611d  0.000022\n",
      "4967  f8df22c4-1602-4fab-896d-8820951aae2f  0.000022\n",
      "4968  b791c69a-f769-4163-afda-051a6fd20a9d  0.000022\n",
      "4969  18b51f5d-4746-4121-88fd-c8d0a1399130  0.000022\n",
      "\n",
      "[4970 rows x 2 columns]\n"
     ]
    }
   ],
   "source": [
    "test_data['drafted'] = predictions\n",
    "print(test_data[['player_id', 'drafted']])"
   ]
  },
  {
   "cell_type": "code",
   "execution_count": 99,
   "id": "44c7dab5-f0f1-4cc1-b310-8310037fb818",
   "metadata": {
    "tags": []
   },
   "outputs": [],
   "source": [
    "test_data[['player_id', 'drafted']].to_csv('predictions_xgb_params_overfit.csv',index=False)"
   ]
  },
  {
   "cell_type": "code",
   "execution_count": null,
   "id": "4516592a",
   "metadata": {},
   "outputs": [],
   "source": []
  }
 ],
 "metadata": {
  "kernelspec": {
   "display_name": "Python 3 (ipykernel)",
   "language": "python",
   "name": "python3"
  },
  "language_info": {
   "codemirror_mode": {
    "name": "ipython",
    "version": 3
   },
   "file_extension": ".py",
   "mimetype": "text/x-python",
   "name": "python",
   "nbconvert_exporter": "python",
   "pygments_lexer": "ipython3",
   "version": "3.11.4"
  }
 },
 "nbformat": 4,
 "nbformat_minor": 5
}
